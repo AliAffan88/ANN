{
  "cells": [
    {
      "cell_type": "markdown",
      "metadata": {
        "id": "3bee89e5-f8fe-4415-86dd-9c8e5ec3c2ba"
      },
      "source": [
        "# REGRESSION using DL Library Keras/Tensorflow"
      ],
      "id": "3bee89e5-f8fe-4415-86dd-9c8e5ec3c2ba"
    },
    {
      "cell_type": "markdown",
      "metadata": {
        "id": "18272b14-8e74-46d7-9f95-d4be8a332f32"
      },
      "source": [
        "### Week 4 Assignment.\n"
      ],
      "id": "18272b14-8e74-46d7-9f95-d4be8a332f32"
    },
    {
      "cell_type": "markdown",
      "id": "1af1c76d",
      "metadata": {
        "id": "1af1c76d"
      },
      "source": [
        "This is Concrete Strength Prediction dataset. You would be required to follow the instructions below to make a regression model to measure the concrete strength.\n",
        "For test purpose, use 10% of data as test."
      ]
    },
    {
      "cell_type": "markdown",
      "metadata": {
        "id": "fcc5c3fd-9d62-446c-be3b-7eac8cb8f45f"
      },
      "source": [
        "### Dated: 16.10.2023"
      ],
      "id": "fcc5c3fd-9d62-446c-be3b-7eac8cb8f45f"
    },
    {
      "cell_type": "markdown",
      "metadata": {
        "id": "9f84be91-27d4-4beb-bf29-4b25b6893214"
      },
      "source": [
        "#### Setting up Libraries"
      ],
      "id": "9f84be91-27d4-4beb-bf29-4b25b6893214"
    },
    {
      "cell_type": "code",
      "execution_count": 1,
      "id": "41b5d09b",
      "metadata": {
        "id": "41b5d09b"
      },
      "outputs": [],
      "source": [
        "#imports here\n",
        "import numpy as np\n",
        "import pandas as pd\n",
        "import matplotlib.pyplot as plt\n",
        "import seaborn as sns\n",
        "from sklearn.preprocessing import StandardScaler\n",
        "from tensorflow import keras\n",
        "from tensorflow.keras import layers\n",
        "from sklearn.model_selection import train_test_split\n",
        "from sklearn.metrics import mean_absolute_error,r2_score,mean_squared_error\n"
      ]
    },
    {
      "cell_type": "markdown",
      "metadata": {
        "id": "64354a64-6b60-4e54-b61a-37fa8d9938f0"
      },
      "source": [
        "#### Loading Data"
      ],
      "id": "64354a64-6b60-4e54-b61a-37fa8d9938f0"
    },
    {
      "cell_type": "code",
      "execution_count": 2,
      "id": "a36c6889",
      "metadata": {
        "id": "a36c6889"
      },
      "outputs": [],
      "source": [
        "concrete_data = pd.read_csv(\"https://cocl.us/concrete_data\")"
      ]
    },
    {
      "cell_type": "markdown",
      "metadata": {
        "id": "ca7da4c4-8910-47cd-a709-3f795f08b606"
      },
      "source": [
        "#### Getting basic info and feel of the data"
      ],
      "id": "ca7da4c4-8910-47cd-a709-3f795f08b606"
    },
    {
      "cell_type": "code",
      "execution_count": 3,
      "id": "e7d044b2",
      "metadata": {
        "colab": {
          "base_uri": "https://localhost:8080/",
          "height": 206
        },
        "id": "e7d044b2",
        "outputId": "ec8faa0e-c7d0-42b4-aa02-c96e108d7e3a"
      },
      "outputs": [
        {
          "output_type": "execute_result",
          "data": {
            "text/plain": [
              "   Cement  Blast Furnace Slag  Fly Ash  Water  Superplasticizer  \\\n",
              "0   540.0                 0.0      0.0  162.0               2.5   \n",
              "1   540.0                 0.0      0.0  162.0               2.5   \n",
              "2   332.5               142.5      0.0  228.0               0.0   \n",
              "3   332.5               142.5      0.0  228.0               0.0   \n",
              "4   198.6               132.4      0.0  192.0               0.0   \n",
              "\n",
              "   Coarse Aggregate  Fine Aggregate  Age  Strength  \n",
              "0            1040.0           676.0   28     79.99  \n",
              "1            1055.0           676.0   28     61.89  \n",
              "2             932.0           594.0  270     40.27  \n",
              "3             932.0           594.0  365     41.05  \n",
              "4             978.4           825.5  360     44.30  "
            ],
            "text/html": [
              "\n",
              "  <div id=\"df-eb57e578-7b1b-42bc-acb4-100dcb81ef5c\" class=\"colab-df-container\">\n",
              "    <div>\n",
              "<style scoped>\n",
              "    .dataframe tbody tr th:only-of-type {\n",
              "        vertical-align: middle;\n",
              "    }\n",
              "\n",
              "    .dataframe tbody tr th {\n",
              "        vertical-align: top;\n",
              "    }\n",
              "\n",
              "    .dataframe thead th {\n",
              "        text-align: right;\n",
              "    }\n",
              "</style>\n",
              "<table border=\"1\" class=\"dataframe\">\n",
              "  <thead>\n",
              "    <tr style=\"text-align: right;\">\n",
              "      <th></th>\n",
              "      <th>Cement</th>\n",
              "      <th>Blast Furnace Slag</th>\n",
              "      <th>Fly Ash</th>\n",
              "      <th>Water</th>\n",
              "      <th>Superplasticizer</th>\n",
              "      <th>Coarse Aggregate</th>\n",
              "      <th>Fine Aggregate</th>\n",
              "      <th>Age</th>\n",
              "      <th>Strength</th>\n",
              "    </tr>\n",
              "  </thead>\n",
              "  <tbody>\n",
              "    <tr>\n",
              "      <th>0</th>\n",
              "      <td>540.0</td>\n",
              "      <td>0.0</td>\n",
              "      <td>0.0</td>\n",
              "      <td>162.0</td>\n",
              "      <td>2.5</td>\n",
              "      <td>1040.0</td>\n",
              "      <td>676.0</td>\n",
              "      <td>28</td>\n",
              "      <td>79.99</td>\n",
              "    </tr>\n",
              "    <tr>\n",
              "      <th>1</th>\n",
              "      <td>540.0</td>\n",
              "      <td>0.0</td>\n",
              "      <td>0.0</td>\n",
              "      <td>162.0</td>\n",
              "      <td>2.5</td>\n",
              "      <td>1055.0</td>\n",
              "      <td>676.0</td>\n",
              "      <td>28</td>\n",
              "      <td>61.89</td>\n",
              "    </tr>\n",
              "    <tr>\n",
              "      <th>2</th>\n",
              "      <td>332.5</td>\n",
              "      <td>142.5</td>\n",
              "      <td>0.0</td>\n",
              "      <td>228.0</td>\n",
              "      <td>0.0</td>\n",
              "      <td>932.0</td>\n",
              "      <td>594.0</td>\n",
              "      <td>270</td>\n",
              "      <td>40.27</td>\n",
              "    </tr>\n",
              "    <tr>\n",
              "      <th>3</th>\n",
              "      <td>332.5</td>\n",
              "      <td>142.5</td>\n",
              "      <td>0.0</td>\n",
              "      <td>228.0</td>\n",
              "      <td>0.0</td>\n",
              "      <td>932.0</td>\n",
              "      <td>594.0</td>\n",
              "      <td>365</td>\n",
              "      <td>41.05</td>\n",
              "    </tr>\n",
              "    <tr>\n",
              "      <th>4</th>\n",
              "      <td>198.6</td>\n",
              "      <td>132.4</td>\n",
              "      <td>0.0</td>\n",
              "      <td>192.0</td>\n",
              "      <td>0.0</td>\n",
              "      <td>978.4</td>\n",
              "      <td>825.5</td>\n",
              "      <td>360</td>\n",
              "      <td>44.30</td>\n",
              "    </tr>\n",
              "  </tbody>\n",
              "</table>\n",
              "</div>\n",
              "    <div class=\"colab-df-buttons\">\n",
              "\n",
              "  <div class=\"colab-df-container\">\n",
              "    <button class=\"colab-df-convert\" onclick=\"convertToInteractive('df-eb57e578-7b1b-42bc-acb4-100dcb81ef5c')\"\n",
              "            title=\"Convert this dataframe to an interactive table.\"\n",
              "            style=\"display:none;\">\n",
              "\n",
              "  <svg xmlns=\"http://www.w3.org/2000/svg\" height=\"24px\" viewBox=\"0 -960 960 960\">\n",
              "    <path d=\"M120-120v-720h720v720H120Zm60-500h600v-160H180v160Zm220 220h160v-160H400v160Zm0 220h160v-160H400v160ZM180-400h160v-160H180v160Zm440 0h160v-160H620v160ZM180-180h160v-160H180v160Zm440 0h160v-160H620v160Z\"/>\n",
              "  </svg>\n",
              "    </button>\n",
              "\n",
              "  <style>\n",
              "    .colab-df-container {\n",
              "      display:flex;\n",
              "      gap: 12px;\n",
              "    }\n",
              "\n",
              "    .colab-df-convert {\n",
              "      background-color: #E8F0FE;\n",
              "      border: none;\n",
              "      border-radius: 50%;\n",
              "      cursor: pointer;\n",
              "      display: none;\n",
              "      fill: #1967D2;\n",
              "      height: 32px;\n",
              "      padding: 0 0 0 0;\n",
              "      width: 32px;\n",
              "    }\n",
              "\n",
              "    .colab-df-convert:hover {\n",
              "      background-color: #E2EBFA;\n",
              "      box-shadow: 0px 1px 2px rgba(60, 64, 67, 0.3), 0px 1px 3px 1px rgba(60, 64, 67, 0.15);\n",
              "      fill: #174EA6;\n",
              "    }\n",
              "\n",
              "    .colab-df-buttons div {\n",
              "      margin-bottom: 4px;\n",
              "    }\n",
              "\n",
              "    [theme=dark] .colab-df-convert {\n",
              "      background-color: #3B4455;\n",
              "      fill: #D2E3FC;\n",
              "    }\n",
              "\n",
              "    [theme=dark] .colab-df-convert:hover {\n",
              "      background-color: #434B5C;\n",
              "      box-shadow: 0px 1px 3px 1px rgba(0, 0, 0, 0.15);\n",
              "      filter: drop-shadow(0px 1px 2px rgba(0, 0, 0, 0.3));\n",
              "      fill: #FFFFFF;\n",
              "    }\n",
              "  </style>\n",
              "\n",
              "    <script>\n",
              "      const buttonEl =\n",
              "        document.querySelector('#df-eb57e578-7b1b-42bc-acb4-100dcb81ef5c button.colab-df-convert');\n",
              "      buttonEl.style.display =\n",
              "        google.colab.kernel.accessAllowed ? 'block' : 'none';\n",
              "\n",
              "      async function convertToInteractive(key) {\n",
              "        const element = document.querySelector('#df-eb57e578-7b1b-42bc-acb4-100dcb81ef5c');\n",
              "        const dataTable =\n",
              "          await google.colab.kernel.invokeFunction('convertToInteractive',\n",
              "                                                    [key], {});\n",
              "        if (!dataTable) return;\n",
              "\n",
              "        const docLinkHtml = 'Like what you see? Visit the ' +\n",
              "          '<a target=\"_blank\" href=https://colab.research.google.com/notebooks/data_table.ipynb>data table notebook</a>'\n",
              "          + ' to learn more about interactive tables.';\n",
              "        element.innerHTML = '';\n",
              "        dataTable['output_type'] = 'display_data';\n",
              "        await google.colab.output.renderOutput(dataTable, element);\n",
              "        const docLink = document.createElement('div');\n",
              "        docLink.innerHTML = docLinkHtml;\n",
              "        element.appendChild(docLink);\n",
              "      }\n",
              "    </script>\n",
              "  </div>\n",
              "\n",
              "\n",
              "<div id=\"df-ac160a49-ef06-42f3-8573-2530519f16b5\">\n",
              "  <button class=\"colab-df-quickchart\" onclick=\"quickchart('df-ac160a49-ef06-42f3-8573-2530519f16b5')\"\n",
              "            title=\"Suggest charts.\"\n",
              "            style=\"display:none;\">\n",
              "\n",
              "<svg xmlns=\"http://www.w3.org/2000/svg\" height=\"24px\"viewBox=\"0 0 24 24\"\n",
              "     width=\"24px\">\n",
              "    <g>\n",
              "        <path d=\"M19 3H5c-1.1 0-2 .9-2 2v14c0 1.1.9 2 2 2h14c1.1 0 2-.9 2-2V5c0-1.1-.9-2-2-2zM9 17H7v-7h2v7zm4 0h-2V7h2v10zm4 0h-2v-4h2v4z\"/>\n",
              "    </g>\n",
              "</svg>\n",
              "  </button>\n",
              "\n",
              "<style>\n",
              "  .colab-df-quickchart {\n",
              "      --bg-color: #E8F0FE;\n",
              "      --fill-color: #1967D2;\n",
              "      --hover-bg-color: #E2EBFA;\n",
              "      --hover-fill-color: #174EA6;\n",
              "      --disabled-fill-color: #AAA;\n",
              "      --disabled-bg-color: #DDD;\n",
              "  }\n",
              "\n",
              "  [theme=dark] .colab-df-quickchart {\n",
              "      --bg-color: #3B4455;\n",
              "      --fill-color: #D2E3FC;\n",
              "      --hover-bg-color: #434B5C;\n",
              "      --hover-fill-color: #FFFFFF;\n",
              "      --disabled-bg-color: #3B4455;\n",
              "      --disabled-fill-color: #666;\n",
              "  }\n",
              "\n",
              "  .colab-df-quickchart {\n",
              "    background-color: var(--bg-color);\n",
              "    border: none;\n",
              "    border-radius: 50%;\n",
              "    cursor: pointer;\n",
              "    display: none;\n",
              "    fill: var(--fill-color);\n",
              "    height: 32px;\n",
              "    padding: 0;\n",
              "    width: 32px;\n",
              "  }\n",
              "\n",
              "  .colab-df-quickchart:hover {\n",
              "    background-color: var(--hover-bg-color);\n",
              "    box-shadow: 0 1px 2px rgba(60, 64, 67, 0.3), 0 1px 3px 1px rgba(60, 64, 67, 0.15);\n",
              "    fill: var(--button-hover-fill-color);\n",
              "  }\n",
              "\n",
              "  .colab-df-quickchart-complete:disabled,\n",
              "  .colab-df-quickchart-complete:disabled:hover {\n",
              "    background-color: var(--disabled-bg-color);\n",
              "    fill: var(--disabled-fill-color);\n",
              "    box-shadow: none;\n",
              "  }\n",
              "\n",
              "  .colab-df-spinner {\n",
              "    border: 2px solid var(--fill-color);\n",
              "    border-color: transparent;\n",
              "    border-bottom-color: var(--fill-color);\n",
              "    animation:\n",
              "      spin 1s steps(1) infinite;\n",
              "  }\n",
              "\n",
              "  @keyframes spin {\n",
              "    0% {\n",
              "      border-color: transparent;\n",
              "      border-bottom-color: var(--fill-color);\n",
              "      border-left-color: var(--fill-color);\n",
              "    }\n",
              "    20% {\n",
              "      border-color: transparent;\n",
              "      border-left-color: var(--fill-color);\n",
              "      border-top-color: var(--fill-color);\n",
              "    }\n",
              "    30% {\n",
              "      border-color: transparent;\n",
              "      border-left-color: var(--fill-color);\n",
              "      border-top-color: var(--fill-color);\n",
              "      border-right-color: var(--fill-color);\n",
              "    }\n",
              "    40% {\n",
              "      border-color: transparent;\n",
              "      border-right-color: var(--fill-color);\n",
              "      border-top-color: var(--fill-color);\n",
              "    }\n",
              "    60% {\n",
              "      border-color: transparent;\n",
              "      border-right-color: var(--fill-color);\n",
              "    }\n",
              "    80% {\n",
              "      border-color: transparent;\n",
              "      border-right-color: var(--fill-color);\n",
              "      border-bottom-color: var(--fill-color);\n",
              "    }\n",
              "    90% {\n",
              "      border-color: transparent;\n",
              "      border-bottom-color: var(--fill-color);\n",
              "    }\n",
              "  }\n",
              "</style>\n",
              "\n",
              "  <script>\n",
              "    async function quickchart(key) {\n",
              "      const quickchartButtonEl =\n",
              "        document.querySelector('#' + key + ' button');\n",
              "      quickchartButtonEl.disabled = true;  // To prevent multiple clicks.\n",
              "      quickchartButtonEl.classList.add('colab-df-spinner');\n",
              "      try {\n",
              "        const charts = await google.colab.kernel.invokeFunction(\n",
              "            'suggestCharts', [key], {});\n",
              "      } catch (error) {\n",
              "        console.error('Error during call to suggestCharts:', error);\n",
              "      }\n",
              "      quickchartButtonEl.classList.remove('colab-df-spinner');\n",
              "      quickchartButtonEl.classList.add('colab-df-quickchart-complete');\n",
              "    }\n",
              "    (() => {\n",
              "      let quickchartButtonEl =\n",
              "        document.querySelector('#df-ac160a49-ef06-42f3-8573-2530519f16b5 button');\n",
              "      quickchartButtonEl.style.display =\n",
              "        google.colab.kernel.accessAllowed ? 'block' : 'none';\n",
              "    })();\n",
              "  </script>\n",
              "</div>\n",
              "    </div>\n",
              "  </div>\n"
            ]
          },
          "metadata": {},
          "execution_count": 3
        }
      ],
      "source": [
        "concrete_data.head()"
      ]
    },
    {
      "cell_type": "code",
      "execution_count": 4,
      "id": "e9c6016f",
      "metadata": {
        "colab": {
          "base_uri": "https://localhost:8080/"
        },
        "id": "e9c6016f",
        "outputId": "ca117137-865f-4fd2-ecea-0f39854352a2"
      },
      "outputs": [
        {
          "output_type": "stream",
          "name": "stdout",
          "text": [
            "<class 'pandas.core.frame.DataFrame'>\n",
            "RangeIndex: 1030 entries, 0 to 1029\n",
            "Data columns (total 9 columns):\n",
            " #   Column              Non-Null Count  Dtype  \n",
            "---  ------              --------------  -----  \n",
            " 0   Cement              1030 non-null   float64\n",
            " 1   Blast Furnace Slag  1030 non-null   float64\n",
            " 2   Fly Ash             1030 non-null   float64\n",
            " 3   Water               1030 non-null   float64\n",
            " 4   Superplasticizer    1030 non-null   float64\n",
            " 5   Coarse Aggregate    1030 non-null   float64\n",
            " 6   Fine Aggregate      1030 non-null   float64\n",
            " 7   Age                 1030 non-null   int64  \n",
            " 8   Strength            1030 non-null   float64\n",
            "dtypes: float64(8), int64(1)\n",
            "memory usage: 72.5 KB\n"
          ]
        }
      ],
      "source": [
        "#get data feel using pandas methods of describe/info\n",
        "concrete_data.info()"
      ]
    },
    {
      "cell_type": "code",
      "source": [
        "concrete_data.describe().T"
      ],
      "metadata": {
        "colab": {
          "base_uri": "https://localhost:8080/",
          "height": 331
        },
        "id": "vclz8Aj9cgb7",
        "outputId": "836d7c27-51bf-43b8-9076-393e2332db2c"
      },
      "id": "vclz8Aj9cgb7",
      "execution_count": 5,
      "outputs": [
        {
          "output_type": "execute_result",
          "data": {
            "text/plain": [
              "                     count        mean         std     min      25%      50%  \\\n",
              "Cement              1030.0  281.167864  104.506364  102.00  192.375  272.900   \n",
              "Blast Furnace Slag  1030.0   73.895825   86.279342    0.00    0.000   22.000   \n",
              "Fly Ash             1030.0   54.188350   63.997004    0.00    0.000    0.000   \n",
              "Water               1030.0  181.567282   21.354219  121.80  164.900  185.000   \n",
              "Superplasticizer    1030.0    6.204660    5.973841    0.00    0.000    6.400   \n",
              "Coarse Aggregate    1030.0  972.918932   77.753954  801.00  932.000  968.000   \n",
              "Fine Aggregate      1030.0  773.580485   80.175980  594.00  730.950  779.500   \n",
              "Age                 1030.0   45.662136   63.169912    1.00    7.000   28.000   \n",
              "Strength            1030.0   35.817961   16.705742    2.33   23.710   34.445   \n",
              "\n",
              "                         75%     max  \n",
              "Cement               350.000   540.0  \n",
              "Blast Furnace Slag   142.950   359.4  \n",
              "Fly Ash              118.300   200.1  \n",
              "Water                192.000   247.0  \n",
              "Superplasticizer      10.200    32.2  \n",
              "Coarse Aggregate    1029.400  1145.0  \n",
              "Fine Aggregate       824.000   992.6  \n",
              "Age                   56.000   365.0  \n",
              "Strength              46.135    82.6  "
            ],
            "text/html": [
              "\n",
              "  <div id=\"df-45d0c9d9-f43c-47a1-b4e2-517c8a14e0fb\" class=\"colab-df-container\">\n",
              "    <div>\n",
              "<style scoped>\n",
              "    .dataframe tbody tr th:only-of-type {\n",
              "        vertical-align: middle;\n",
              "    }\n",
              "\n",
              "    .dataframe tbody tr th {\n",
              "        vertical-align: top;\n",
              "    }\n",
              "\n",
              "    .dataframe thead th {\n",
              "        text-align: right;\n",
              "    }\n",
              "</style>\n",
              "<table border=\"1\" class=\"dataframe\">\n",
              "  <thead>\n",
              "    <tr style=\"text-align: right;\">\n",
              "      <th></th>\n",
              "      <th>count</th>\n",
              "      <th>mean</th>\n",
              "      <th>std</th>\n",
              "      <th>min</th>\n",
              "      <th>25%</th>\n",
              "      <th>50%</th>\n",
              "      <th>75%</th>\n",
              "      <th>max</th>\n",
              "    </tr>\n",
              "  </thead>\n",
              "  <tbody>\n",
              "    <tr>\n",
              "      <th>Cement</th>\n",
              "      <td>1030.0</td>\n",
              "      <td>281.167864</td>\n",
              "      <td>104.506364</td>\n",
              "      <td>102.00</td>\n",
              "      <td>192.375</td>\n",
              "      <td>272.900</td>\n",
              "      <td>350.000</td>\n",
              "      <td>540.0</td>\n",
              "    </tr>\n",
              "    <tr>\n",
              "      <th>Blast Furnace Slag</th>\n",
              "      <td>1030.0</td>\n",
              "      <td>73.895825</td>\n",
              "      <td>86.279342</td>\n",
              "      <td>0.00</td>\n",
              "      <td>0.000</td>\n",
              "      <td>22.000</td>\n",
              "      <td>142.950</td>\n",
              "      <td>359.4</td>\n",
              "    </tr>\n",
              "    <tr>\n",
              "      <th>Fly Ash</th>\n",
              "      <td>1030.0</td>\n",
              "      <td>54.188350</td>\n",
              "      <td>63.997004</td>\n",
              "      <td>0.00</td>\n",
              "      <td>0.000</td>\n",
              "      <td>0.000</td>\n",
              "      <td>118.300</td>\n",
              "      <td>200.1</td>\n",
              "    </tr>\n",
              "    <tr>\n",
              "      <th>Water</th>\n",
              "      <td>1030.0</td>\n",
              "      <td>181.567282</td>\n",
              "      <td>21.354219</td>\n",
              "      <td>121.80</td>\n",
              "      <td>164.900</td>\n",
              "      <td>185.000</td>\n",
              "      <td>192.000</td>\n",
              "      <td>247.0</td>\n",
              "    </tr>\n",
              "    <tr>\n",
              "      <th>Superplasticizer</th>\n",
              "      <td>1030.0</td>\n",
              "      <td>6.204660</td>\n",
              "      <td>5.973841</td>\n",
              "      <td>0.00</td>\n",
              "      <td>0.000</td>\n",
              "      <td>6.400</td>\n",
              "      <td>10.200</td>\n",
              "      <td>32.2</td>\n",
              "    </tr>\n",
              "    <tr>\n",
              "      <th>Coarse Aggregate</th>\n",
              "      <td>1030.0</td>\n",
              "      <td>972.918932</td>\n",
              "      <td>77.753954</td>\n",
              "      <td>801.00</td>\n",
              "      <td>932.000</td>\n",
              "      <td>968.000</td>\n",
              "      <td>1029.400</td>\n",
              "      <td>1145.0</td>\n",
              "    </tr>\n",
              "    <tr>\n",
              "      <th>Fine Aggregate</th>\n",
              "      <td>1030.0</td>\n",
              "      <td>773.580485</td>\n",
              "      <td>80.175980</td>\n",
              "      <td>594.00</td>\n",
              "      <td>730.950</td>\n",
              "      <td>779.500</td>\n",
              "      <td>824.000</td>\n",
              "      <td>992.6</td>\n",
              "    </tr>\n",
              "    <tr>\n",
              "      <th>Age</th>\n",
              "      <td>1030.0</td>\n",
              "      <td>45.662136</td>\n",
              "      <td>63.169912</td>\n",
              "      <td>1.00</td>\n",
              "      <td>7.000</td>\n",
              "      <td>28.000</td>\n",
              "      <td>56.000</td>\n",
              "      <td>365.0</td>\n",
              "    </tr>\n",
              "    <tr>\n",
              "      <th>Strength</th>\n",
              "      <td>1030.0</td>\n",
              "      <td>35.817961</td>\n",
              "      <td>16.705742</td>\n",
              "      <td>2.33</td>\n",
              "      <td>23.710</td>\n",
              "      <td>34.445</td>\n",
              "      <td>46.135</td>\n",
              "      <td>82.6</td>\n",
              "    </tr>\n",
              "  </tbody>\n",
              "</table>\n",
              "</div>\n",
              "    <div class=\"colab-df-buttons\">\n",
              "\n",
              "  <div class=\"colab-df-container\">\n",
              "    <button class=\"colab-df-convert\" onclick=\"convertToInteractive('df-45d0c9d9-f43c-47a1-b4e2-517c8a14e0fb')\"\n",
              "            title=\"Convert this dataframe to an interactive table.\"\n",
              "            style=\"display:none;\">\n",
              "\n",
              "  <svg xmlns=\"http://www.w3.org/2000/svg\" height=\"24px\" viewBox=\"0 -960 960 960\">\n",
              "    <path d=\"M120-120v-720h720v720H120Zm60-500h600v-160H180v160Zm220 220h160v-160H400v160Zm0 220h160v-160H400v160ZM180-400h160v-160H180v160Zm440 0h160v-160H620v160ZM180-180h160v-160H180v160Zm440 0h160v-160H620v160Z\"/>\n",
              "  </svg>\n",
              "    </button>\n",
              "\n",
              "  <style>\n",
              "    .colab-df-container {\n",
              "      display:flex;\n",
              "      gap: 12px;\n",
              "    }\n",
              "\n",
              "    .colab-df-convert {\n",
              "      background-color: #E8F0FE;\n",
              "      border: none;\n",
              "      border-radius: 50%;\n",
              "      cursor: pointer;\n",
              "      display: none;\n",
              "      fill: #1967D2;\n",
              "      height: 32px;\n",
              "      padding: 0 0 0 0;\n",
              "      width: 32px;\n",
              "    }\n",
              "\n",
              "    .colab-df-convert:hover {\n",
              "      background-color: #E2EBFA;\n",
              "      box-shadow: 0px 1px 2px rgba(60, 64, 67, 0.3), 0px 1px 3px 1px rgba(60, 64, 67, 0.15);\n",
              "      fill: #174EA6;\n",
              "    }\n",
              "\n",
              "    .colab-df-buttons div {\n",
              "      margin-bottom: 4px;\n",
              "    }\n",
              "\n",
              "    [theme=dark] .colab-df-convert {\n",
              "      background-color: #3B4455;\n",
              "      fill: #D2E3FC;\n",
              "    }\n",
              "\n",
              "    [theme=dark] .colab-df-convert:hover {\n",
              "      background-color: #434B5C;\n",
              "      box-shadow: 0px 1px 3px 1px rgba(0, 0, 0, 0.15);\n",
              "      filter: drop-shadow(0px 1px 2px rgba(0, 0, 0, 0.3));\n",
              "      fill: #FFFFFF;\n",
              "    }\n",
              "  </style>\n",
              "\n",
              "    <script>\n",
              "      const buttonEl =\n",
              "        document.querySelector('#df-45d0c9d9-f43c-47a1-b4e2-517c8a14e0fb button.colab-df-convert');\n",
              "      buttonEl.style.display =\n",
              "        google.colab.kernel.accessAllowed ? 'block' : 'none';\n",
              "\n",
              "      async function convertToInteractive(key) {\n",
              "        const element = document.querySelector('#df-45d0c9d9-f43c-47a1-b4e2-517c8a14e0fb');\n",
              "        const dataTable =\n",
              "          await google.colab.kernel.invokeFunction('convertToInteractive',\n",
              "                                                    [key], {});\n",
              "        if (!dataTable) return;\n",
              "\n",
              "        const docLinkHtml = 'Like what you see? Visit the ' +\n",
              "          '<a target=\"_blank\" href=https://colab.research.google.com/notebooks/data_table.ipynb>data table notebook</a>'\n",
              "          + ' to learn more about interactive tables.';\n",
              "        element.innerHTML = '';\n",
              "        dataTable['output_type'] = 'display_data';\n",
              "        await google.colab.output.renderOutput(dataTable, element);\n",
              "        const docLink = document.createElement('div');\n",
              "        docLink.innerHTML = docLinkHtml;\n",
              "        element.appendChild(docLink);\n",
              "      }\n",
              "    </script>\n",
              "  </div>\n",
              "\n",
              "\n",
              "<div id=\"df-fa403f8a-f20f-4e36-872f-158755a3bd9f\">\n",
              "  <button class=\"colab-df-quickchart\" onclick=\"quickchart('df-fa403f8a-f20f-4e36-872f-158755a3bd9f')\"\n",
              "            title=\"Suggest charts.\"\n",
              "            style=\"display:none;\">\n",
              "\n",
              "<svg xmlns=\"http://www.w3.org/2000/svg\" height=\"24px\"viewBox=\"0 0 24 24\"\n",
              "     width=\"24px\">\n",
              "    <g>\n",
              "        <path d=\"M19 3H5c-1.1 0-2 .9-2 2v14c0 1.1.9 2 2 2h14c1.1 0 2-.9 2-2V5c0-1.1-.9-2-2-2zM9 17H7v-7h2v7zm4 0h-2V7h2v10zm4 0h-2v-4h2v4z\"/>\n",
              "    </g>\n",
              "</svg>\n",
              "  </button>\n",
              "\n",
              "<style>\n",
              "  .colab-df-quickchart {\n",
              "      --bg-color: #E8F0FE;\n",
              "      --fill-color: #1967D2;\n",
              "      --hover-bg-color: #E2EBFA;\n",
              "      --hover-fill-color: #174EA6;\n",
              "      --disabled-fill-color: #AAA;\n",
              "      --disabled-bg-color: #DDD;\n",
              "  }\n",
              "\n",
              "  [theme=dark] .colab-df-quickchart {\n",
              "      --bg-color: #3B4455;\n",
              "      --fill-color: #D2E3FC;\n",
              "      --hover-bg-color: #434B5C;\n",
              "      --hover-fill-color: #FFFFFF;\n",
              "      --disabled-bg-color: #3B4455;\n",
              "      --disabled-fill-color: #666;\n",
              "  }\n",
              "\n",
              "  .colab-df-quickchart {\n",
              "    background-color: var(--bg-color);\n",
              "    border: none;\n",
              "    border-radius: 50%;\n",
              "    cursor: pointer;\n",
              "    display: none;\n",
              "    fill: var(--fill-color);\n",
              "    height: 32px;\n",
              "    padding: 0;\n",
              "    width: 32px;\n",
              "  }\n",
              "\n",
              "  .colab-df-quickchart:hover {\n",
              "    background-color: var(--hover-bg-color);\n",
              "    box-shadow: 0 1px 2px rgba(60, 64, 67, 0.3), 0 1px 3px 1px rgba(60, 64, 67, 0.15);\n",
              "    fill: var(--button-hover-fill-color);\n",
              "  }\n",
              "\n",
              "  .colab-df-quickchart-complete:disabled,\n",
              "  .colab-df-quickchart-complete:disabled:hover {\n",
              "    background-color: var(--disabled-bg-color);\n",
              "    fill: var(--disabled-fill-color);\n",
              "    box-shadow: none;\n",
              "  }\n",
              "\n",
              "  .colab-df-spinner {\n",
              "    border: 2px solid var(--fill-color);\n",
              "    border-color: transparent;\n",
              "    border-bottom-color: var(--fill-color);\n",
              "    animation:\n",
              "      spin 1s steps(1) infinite;\n",
              "  }\n",
              "\n",
              "  @keyframes spin {\n",
              "    0% {\n",
              "      border-color: transparent;\n",
              "      border-bottom-color: var(--fill-color);\n",
              "      border-left-color: var(--fill-color);\n",
              "    }\n",
              "    20% {\n",
              "      border-color: transparent;\n",
              "      border-left-color: var(--fill-color);\n",
              "      border-top-color: var(--fill-color);\n",
              "    }\n",
              "    30% {\n",
              "      border-color: transparent;\n",
              "      border-left-color: var(--fill-color);\n",
              "      border-top-color: var(--fill-color);\n",
              "      border-right-color: var(--fill-color);\n",
              "    }\n",
              "    40% {\n",
              "      border-color: transparent;\n",
              "      border-right-color: var(--fill-color);\n",
              "      border-top-color: var(--fill-color);\n",
              "    }\n",
              "    60% {\n",
              "      border-color: transparent;\n",
              "      border-right-color: var(--fill-color);\n",
              "    }\n",
              "    80% {\n",
              "      border-color: transparent;\n",
              "      border-right-color: var(--fill-color);\n",
              "      border-bottom-color: var(--fill-color);\n",
              "    }\n",
              "    90% {\n",
              "      border-color: transparent;\n",
              "      border-bottom-color: var(--fill-color);\n",
              "    }\n",
              "  }\n",
              "</style>\n",
              "\n",
              "  <script>\n",
              "    async function quickchart(key) {\n",
              "      const quickchartButtonEl =\n",
              "        document.querySelector('#' + key + ' button');\n",
              "      quickchartButtonEl.disabled = true;  // To prevent multiple clicks.\n",
              "      quickchartButtonEl.classList.add('colab-df-spinner');\n",
              "      try {\n",
              "        const charts = await google.colab.kernel.invokeFunction(\n",
              "            'suggestCharts', [key], {});\n",
              "      } catch (error) {\n",
              "        console.error('Error during call to suggestCharts:', error);\n",
              "      }\n",
              "      quickchartButtonEl.classList.remove('colab-df-spinner');\n",
              "      quickchartButtonEl.classList.add('colab-df-quickchart-complete');\n",
              "    }\n",
              "    (() => {\n",
              "      let quickchartButtonEl =\n",
              "        document.querySelector('#df-fa403f8a-f20f-4e36-872f-158755a3bd9f button');\n",
              "      quickchartButtonEl.style.display =\n",
              "        google.colab.kernel.accessAllowed ? 'block' : 'none';\n",
              "    })();\n",
              "  </script>\n",
              "</div>\n",
              "    </div>\n",
              "  </div>\n"
            ]
          },
          "metadata": {},
          "execution_count": 5
        }
      ]
    },
    {
      "cell_type": "code",
      "source": [
        "concrete_data.drop_duplicates(inplace=True)"
      ],
      "metadata": {
        "id": "cn03C85eCcem"
      },
      "id": "cn03C85eCcem",
      "execution_count": 6,
      "outputs": []
    },
    {
      "cell_type": "code",
      "source": [
        "fig, axes = plt.subplots(1, 8, figsize=(15, 2))\n",
        "fig.suptitle('Boxplots for outlier detection')\n",
        "sns.boxplot(x=concrete_data['Cement'], ax=axes[0])\n",
        "sns.boxplot(x=concrete_data['Blast Furnace Slag'], ax=axes[1])\n",
        "sns.boxplot(x=concrete_data['Fly Ash'], ax=axes[2])\n",
        "sns.boxplot(x=concrete_data['Water'], ax=axes[3])\n",
        "sns.boxplot(x=concrete_data['Superplasticizer'], ax=axes[4])\n",
        "sns.boxplot(x=concrete_data['Coarse Aggregate'], ax=axes[5])\n",
        "sns.boxplot(x=concrete_data['Fine Aggregate'], ax=axes[6])\n",
        "sns.boxplot(x=concrete_data['Age'], ax=axes[7])\n",
        "plt.show()"
      ],
      "metadata": {
        "colab": {
          "base_uri": "https://localhost:8080/",
          "height": 254
        },
        "id": "koVG_oFwM7Tl",
        "outputId": "62714fd7-491f-41f7-a840-b80e43976c7c"
      },
      "id": "koVG_oFwM7Tl",
      "execution_count": 7,
      "outputs": [
        {
          "output_type": "display_data",
          "data": {
            "text/plain": [
              "<Figure size 1500x200 with 8 Axes>"
            ],
            "image/png": "[encoded data removed]"
          },
          "metadata": {}
        }
      ]
    },
    {
      "cell_type": "code",
      "source": [
        "def outlier_imputer(columns,Inter_QR):\n",
        "    '''\n",
        "    Impute upper-limit values in specified columns based on their interquartile range.\n",
        "\n",
        "    Arguments:\n",
        "        column_list: A list of columns to iterate over\n",
        "        iqr_factor: A number representing x in the formula:\n",
        "                    Q3 + (x * IQR). Used to determine maximum threshold,\n",
        "                    beyond which a point is considered an outlier.\n",
        "\n",
        "    The IQR is computed for each column in column_list and values exceeding\n",
        "    the upper threshold for each column are imputed with the upper threshold value.\n",
        "    '''\n",
        "    for col in columns:\n",
        "        # Reassign minimum to zero\n",
        "        concrete_data.loc[concrete_data[col]<0, col]\n",
        "\n",
        "        # Calculate upper threshold\n",
        "        q1 = concrete_data[col].quantile(0.25)\n",
        "        q3 = concrete_data[col].quantile(0.75)\n",
        "        IQR = q3 - q1\n",
        "        upper_threshold = q3 + (Inter_QR * IQR)\n",
        "        print(col)\n",
        "        print('q3:', q3)\n",
        "        print('upper_threshold:', upper_threshold)\n",
        "\n",
        "\n",
        "        # Reassign values > threshold to threshold\n",
        "        concrete_data.loc[concrete_data[col] > upper_threshold, col] = upper_threshold\n",
        "        print(concrete_data[col].describe().T)\n",
        "        print()"
      ],
      "metadata": {
        "id": "wzfqCevZObBG"
      },
      "id": "wzfqCevZObBG",
      "execution_count": 8,
      "outputs": []
    },
    {
      "cell_type": "code",
      "source": [
        "outlier_imputer(['Blast Furnace Slag'],1.5)"
      ],
      "metadata": {
        "colab": {
          "base_uri": "https://localhost:8080/"
        },
        "id": "2rLJEd-gPzlN",
        "outputId": "ffb79db6-d2c6-4229-a442-5f9766b9eec9"
      },
      "id": "2rLJEd-gPzlN",
      "execution_count": 9,
      "outputs": [
        {
          "output_type": "stream",
          "name": "stdout",
          "text": [
            "Blast Furnace Slag\n",
            "q3: 142.5\n",
            "upper_threshold: 356.25\n",
            "count    1005.000000\n",
            "mean       72.037214\n",
            "std        86.149994\n",
            "min         0.000000\n",
            "25%         0.000000\n",
            "50%        20.000000\n",
            "75%       142.500000\n",
            "max       356.250000\n",
            "Name: Blast Furnace Slag, dtype: float64\n",
            "\n"
          ]
        }
      ]
    },
    {
      "cell_type": "code",
      "source": [
        "outlier_imputer(['Age'],1.5)"
      ],
      "metadata": {
        "colab": {
          "base_uri": "https://localhost:8080/"
        },
        "id": "gqdd6gOdOhUE",
        "outputId": "44c0fe49-3114-4f54-cd9d-5dbc7b2ccc2b"
      },
      "id": "gqdd6gOdOhUE",
      "execution_count": 10,
      "outputs": [
        {
          "output_type": "stream",
          "name": "stdout",
          "text": [
            "Age\n",
            "q3: 56.0\n",
            "upper_threshold: 129.5\n",
            "count    1005.000000\n",
            "mean       38.076119\n",
            "std        35.862549\n",
            "min         1.000000\n",
            "25%         7.000000\n",
            "50%        28.000000\n",
            "75%        56.000000\n",
            "max       129.500000\n",
            "Name: Age, dtype: float64\n",
            "\n"
          ]
        }
      ]
    },
    {
      "cell_type": "code",
      "source": [
        "outlier_imputer(['Water'],1.5)"
      ],
      "metadata": {
        "colab": {
          "base_uri": "https://localhost:8080/"
        },
        "id": "bgiDEiokPVgd",
        "outputId": "9cc73d12-aec9-4ce3-d5f1-bc35af77d88a"
      },
      "id": "bgiDEiokPVgd",
      "execution_count": 11,
      "outputs": [
        {
          "output_type": "stream",
          "name": "stdout",
          "text": [
            "Water\n",
            "q3: 192.9\n",
            "upper_threshold: 232.35000000000002\n",
            "count    1005.000000\n",
            "mean      182.037313\n",
            "std        21.238527\n",
            "min       121.800000\n",
            "25%       166.600000\n",
            "50%       185.700000\n",
            "75%       192.900000\n",
            "max       232.350000\n",
            "Name: Water, dtype: float64\n",
            "\n"
          ]
        }
      ]
    },
    {
      "cell_type": "code",
      "source": [
        "outlier_imputer(['Superplasticizer'],1.5)"
      ],
      "metadata": {
        "colab": {
          "base_uri": "https://localhost:8080/"
        },
        "id": "-MVqnN0rPeZx",
        "outputId": "5a16d367-070b-4fd5-8554-ad4d654b2e1b"
      },
      "id": "-MVqnN0rPeZx",
      "execution_count": 12,
      "outputs": [
        {
          "output_type": "stream",
          "name": "stdout",
          "text": [
            "Superplasticizer\n",
            "q3: 10.0\n",
            "upper_threshold: 25.0\n",
            "count    1005.000000\n",
            "mean        5.981493\n",
            "std         5.724463\n",
            "min         0.000000\n",
            "25%         0.000000\n",
            "50%         6.100000\n",
            "75%        10.000000\n",
            "max        25.000000\n",
            "Name: Superplasticizer, dtype: float64\n",
            "\n"
          ]
        }
      ]
    },
    {
      "cell_type": "code",
      "source": [
        "outlier_imputer(['Fine Aggregate'],1.5)"
      ],
      "metadata": {
        "colab": {
          "base_uri": "https://localhost:8080/"
        },
        "id": "UdDvWRqCPoTh",
        "outputId": "44afe228-721b-4f9d-b063-57e1aec8df7c"
      },
      "id": "UdDvWRqCPoTh",
      "execution_count": 13,
      "outputs": [
        {
          "output_type": "stream",
          "name": "stdout",
          "text": [
            "Fine Aggregate\n",
            "q3: 822.2\n",
            "upper_threshold: 969.0500000000002\n",
            "count    1005.000000\n",
            "mean      772.571095\n",
            "std        80.035934\n",
            "min       594.000000\n",
            "25%       724.300000\n",
            "50%       780.000000\n",
            "75%       822.200000\n",
            "max       969.050000\n",
            "Name: Fine Aggregate, dtype: float64\n",
            "\n"
          ]
        }
      ]
    },
    {
      "cell_type": "code",
      "execution_count": 14,
      "id": "8e2cbed6",
      "metadata": {
        "colab": {
          "base_uri": "https://localhost:8080/"
        },
        "id": "8e2cbed6",
        "outputId": "f270dbbd-680c-4c89-f279-1f0e8a739e40"
      },
      "outputs": [
        {
          "output_type": "execute_result",
          "data": {
            "text/plain": [
              "(1005, 9)"
            ]
          },
          "metadata": {},
          "execution_count": 14
        }
      ],
      "source": [
        "#check for basics like shape, no of samples\n",
        "concrete_data.shape"
      ]
    },
    {
      "cell_type": "code",
      "execution_count": 15,
      "id": "ba1c8d71",
      "metadata": {
        "colab": {
          "base_uri": "https://localhost:8080/",
          "height": 568
        },
        "id": "ba1c8d71",
        "outputId": "2e9cec01-0287-4ee9-f685-2de3df0e1dce"
      },
      "outputs": [
        {
          "output_type": "execute_result",
          "data": {
            "text/plain": [
              "<Axes: >"
            ]
          },
          "metadata": {},
          "execution_count": 15
        },
        {
          "output_type": "display_data",
          "data": {
            "text/plain": [
              "<Figure size 640x480 with 2 Axes>"
            ],
            "image/png": "[encoded data removed]"
          },
          "metadata": {}
        }
      ],
      "source": [
        "#check if there are null values, and discard null values\n",
        "sns.heatmap(concrete_data.isnull(),cmap='coolwarm')"
      ]
    },
    {
      "cell_type": "code",
      "source": [
        "concrete_data.isnull().sum()"
      ],
      "metadata": {
        "colab": {
          "base_uri": "https://localhost:8080/"
        },
        "id": "8-ULf5qPdgSa",
        "outputId": "85a9ff6e-63f2-4431-a92f-d1bcff2c0d05"
      },
      "id": "8-ULf5qPdgSa",
      "execution_count": 16,
      "outputs": [
        {
          "output_type": "execute_result",
          "data": {
            "text/plain": [
              "Cement                0\n",
              "Blast Furnace Slag    0\n",
              "Fly Ash               0\n",
              "Water                 0\n",
              "Superplasticizer      0\n",
              "Coarse Aggregate      0\n",
              "Fine Aggregate        0\n",
              "Age                   0\n",
              "Strength              0\n",
              "dtype: int64"
            ]
          },
          "metadata": {},
          "execution_count": 16
        }
      ]
    },
    {
      "cell_type": "markdown",
      "source": [],
      "metadata": {
        "id": "pkmd_BvGgy9N"
      },
      "id": "pkmd_BvGgy9N"
    },
    {
      "cell_type": "markdown",
      "metadata": {
        "id": "f80bef15-b8e4-43f0-b7d8-81cc4649db8b"
      },
      "source": [
        "#### Splitting data into predictors/features and target labels"
      ],
      "id": "f80bef15-b8e4-43f0-b7d8-81cc4649db8b"
    },
    {
      "cell_type": "code",
      "execution_count": 17,
      "id": "86d6c704",
      "metadata": {
        "id": "86d6c704"
      },
      "outputs": [],
      "source": [
        "X = concrete_data.drop('Strength',axis=1)    # (features)"
      ]
    },
    {
      "cell_type": "code",
      "execution_count": 18,
      "id": "23261f67",
      "metadata": {
        "id": "23261f67"
      },
      "outputs": [],
      "source": [
        "y = concrete_data[['Strength']]       # targets"
      ]
    },
    {
      "cell_type": "code",
      "execution_count": 19,
      "id": "076496c0",
      "metadata": {
        "colab": {
          "base_uri": "https://localhost:8080/",
          "height": 206
        },
        "id": "076496c0",
        "outputId": "e8500b0a-2f2a-47f7-fe81-1293818874f7"
      },
      "outputs": [
        {
          "output_type": "execute_result",
          "data": {
            "text/plain": [
              "   Cement  Blast Furnace Slag  Fly Ash  Water  Superplasticizer  \\\n",
              "0   540.0                 0.0      0.0  162.0               2.5   \n",
              "1   540.0                 0.0      0.0  162.0               2.5   \n",
              "2   332.5               142.5      0.0  228.0               0.0   \n",
              "3   332.5               142.5      0.0  228.0               0.0   \n",
              "4   198.6               132.4      0.0  192.0               0.0   \n",
              "\n",
              "   Coarse Aggregate  Fine Aggregate    Age  \n",
              "0            1040.0           676.0   28.0  \n",
              "1            1055.0           676.0   28.0  \n",
              "2             932.0           594.0  129.5  \n",
              "3             932.0           594.0  129.5  \n",
              "4             978.4           825.5  129.5  "
            ],
            "text/html": [
              "\n",
              "  <div id=\"df-b5f0ef9c-438d-4c89-9159-e3968a505fb3\" class=\"colab-df-container\">\n",
              "    <div>\n",
              "<style scoped>\n",
              "    .dataframe tbody tr th:only-of-type {\n",
              "        vertical-align: middle;\n",
              "    }\n",
              "\n",
              "    .dataframe tbody tr th {\n",
              "        vertical-align: top;\n",
              "    }\n",
              "\n",
              "    .dataframe thead th {\n",
              "        text-align: right;\n",
              "    }\n",
              "</style>\n",
              "<table border=\"1\" class=\"dataframe\">\n",
              "  <thead>\n",
              "    <tr style=\"text-align: right;\">\n",
              "      <th></th>\n",
              "      <th>Cement</th>\n",
              "      <th>Blast Furnace Slag</th>\n",
              "      <th>Fly Ash</th>\n",
              "      <th>Water</th>\n",
              "      <th>Superplasticizer</th>\n",
              "      <th>Coarse Aggregate</th>\n",
              "      <th>Fine Aggregate</th>\n",
              "      <th>Age</th>\n",
              "    </tr>\n",
              "  </thead>\n",
              "  <tbody>\n",
              "    <tr>\n",
              "      <th>0</th>\n",
              "      <td>540.0</td>\n",
              "      <td>0.0</td>\n",
              "      <td>0.0</td>\n",
              "      <td>162.0</td>\n",
              "      <td>2.5</td>\n",
              "      <td>1040.0</td>\n",
              "      <td>676.0</td>\n",
              "      <td>28.0</td>\n",
              "    </tr>\n",
              "    <tr>\n",
              "      <th>1</th>\n",
              "      <td>540.0</td>\n",
              "      <td>0.0</td>\n",
              "      <td>0.0</td>\n",
              "      <td>162.0</td>\n",
              "      <td>2.5</td>\n",
              "      <td>1055.0</td>\n",
              "      <td>676.0</td>\n",
              "      <td>28.0</td>\n",
              "    </tr>\n",
              "    <tr>\n",
              "      <th>2</th>\n",
              "      <td>332.5</td>\n",
              "      <td>142.5</td>\n",
              "      <td>0.0</td>\n",
              "      <td>228.0</td>\n",
              "      <td>0.0</td>\n",
              "      <td>932.0</td>\n",
              "      <td>594.0</td>\n",
              "      <td>129.5</td>\n",
              "    </tr>\n",
              "    <tr>\n",
              "      <th>3</th>\n",
              "      <td>332.5</td>\n",
              "      <td>142.5</td>\n",
              "      <td>0.0</td>\n",
              "      <td>228.0</td>\n",
              "      <td>0.0</td>\n",
              "      <td>932.0</td>\n",
              "      <td>594.0</td>\n",
              "      <td>129.5</td>\n",
              "    </tr>\n",
              "    <tr>\n",
              "      <th>4</th>\n",
              "      <td>198.6</td>\n",
              "      <td>132.4</td>\n",
              "      <td>0.0</td>\n",
              "      <td>192.0</td>\n",
              "      <td>0.0</td>\n",
              "      <td>978.4</td>\n",
              "      <td>825.5</td>\n",
              "      <td>129.5</td>\n",
              "    </tr>\n",
              "  </tbody>\n",
              "</table>\n",
              "</div>\n",
              "    <div class=\"colab-df-buttons\">\n",
              "\n",
              "  <div class=\"colab-df-container\">\n",
              "    <button class=\"colab-df-convert\" onclick=\"convertToInteractive('df-b5f0ef9c-438d-4c89-9159-e3968a505fb3')\"\n",
              "            title=\"Convert this dataframe to an interactive table.\"\n",
              "            style=\"display:none;\">\n",
              "\n",
              "  <svg xmlns=\"http://www.w3.org/2000/svg\" height=\"24px\" viewBox=\"0 -960 960 960\">\n",
              "    <path d=\"M120-120v-720h720v720H120Zm60-500h600v-160H180v160Zm220 220h160v-160H400v160Zm0 220h160v-160H400v160ZM180-400h160v-160H180v160Zm440 0h160v-160H620v160ZM180-180h160v-160H180v160Zm440 0h160v-160H620v160Z\"/>\n",
              "  </svg>\n",
              "    </button>\n",
              "\n",
              "  <style>\n",
              "    .colab-df-container {\n",
              "      display:flex;\n",
              "      gap: 12px;\n",
              "    }\n",
              "\n",
              "    .colab-df-convert {\n",
              "      background-color: #E8F0FE;\n",
              "      border: none;\n",
              "      border-radius: 50%;\n",
              "      cursor: pointer;\n",
              "      display: none;\n",
              "      fill: #1967D2;\n",
              "      height: 32px;\n",
              "      padding: 0 0 0 0;\n",
              "      width: 32px;\n",
              "    }\n",
              "\n",
              "    .colab-df-convert:hover {\n",
              "      background-color: #E2EBFA;\n",
              "      box-shadow: 0px 1px 2px rgba(60, 64, 67, 0.3), 0px 1px 3px 1px rgba(60, 64, 67, 0.15);\n",
              "      fill: #174EA6;\n",
              "    }\n",
              "\n",
              "    .colab-df-buttons div {\n",
              "      margin-bottom: 4px;\n",
              "    }\n",
              "\n",
              "    [theme=dark] .colab-df-convert {\n",
              "      background-color: #3B4455;\n",
              "      fill: #D2E3FC;\n",
              "    }\n",
              "\n",
              "    [theme=dark] .colab-df-convert:hover {\n",
              "      background-color: #434B5C;\n",
              "      box-shadow: 0px 1px 3px 1px rgba(0, 0, 0, 0.15);\n",
              "      filter: drop-shadow(0px 1px 2px rgba(0, 0, 0, 0.3));\n",
              "      fill: #FFFFFF;\n",
              "    }\n",
              "  </style>\n",
              "\n",
              "    <script>\n",
              "      const buttonEl =\n",
              "        document.querySelector('#df-b5f0ef9c-438d-4c89-9159-e3968a505fb3 button.colab-df-convert');\n",
              "      buttonEl.style.display =\n",
              "        google.colab.kernel.accessAllowed ? 'block' : 'none';\n",
              "\n",
              "      async function convertToInteractive(key) {\n",
              "        const element = document.querySelector('#df-b5f0ef9c-438d-4c89-9159-e3968a505fb3');\n",
              "        const dataTable =\n",
              "          await google.colab.kernel.invokeFunction('convertToInteractive',\n",
              "                                                    [key], {});\n",
              "        if (!dataTable) return;\n",
              "\n",
              "        const docLinkHtml = 'Like what you see? Visit the ' +\n",
              "          '<a target=\"_blank\" href=https://colab.research.google.com/notebooks/data_table.ipynb>data table notebook</a>'\n",
              "          + ' to learn more about interactive tables.';\n",
              "        element.innerHTML = '';\n",
              "        dataTable['output_type'] = 'display_data';\n",
              "        await google.colab.output.renderOutput(dataTable, element);\n",
              "        const docLink = document.createElement('div');\n",
              "        docLink.innerHTML = docLinkHtml;\n",
              "        element.appendChild(docLink);\n",
              "      }\n",
              "    </script>\n",
              "  </div>\n",
              "\n",
              "\n",
              "<div id=\"df-24a6ff5f-0f36-4e1f-9bc8-6adcf8f29a35\">\n",
              "  <button class=\"colab-df-quickchart\" onclick=\"quickchart('df-24a6ff5f-0f36-4e1f-9bc8-6adcf8f29a35')\"\n",
              "            title=\"Suggest charts.\"\n",
              "            style=\"display:none;\">\n",
              "\n",
              "<svg xmlns=\"http://www.w3.org/2000/svg\" height=\"24px\"viewBox=\"0 0 24 24\"\n",
              "     width=\"24px\">\n",
              "    <g>\n",
              "        <path d=\"M19 3H5c-1.1 0-2 .9-2 2v14c0 1.1.9 2 2 2h14c1.1 0 2-.9 2-2V5c0-1.1-.9-2-2-2zM9 17H7v-7h2v7zm4 0h-2V7h2v10zm4 0h-2v-4h2v4z\"/>\n",
              "    </g>\n",
              "</svg>\n",
              "  </button>\n",
              "\n",
              "<style>\n",
              "  .colab-df-quickchart {\n",
              "      --bg-color: #E8F0FE;\n",
              "      --fill-color: #1967D2;\n",
              "      --hover-bg-color: #E2EBFA;\n",
              "      --hover-fill-color: #174EA6;\n",
              "      --disabled-fill-color: #AAA;\n",
              "      --disabled-bg-color: #DDD;\n",
              "  }\n",
              "\n",
              "  [theme=dark] .colab-df-quickchart {\n",
              "      --bg-color: #3B4455;\n",
              "      --fill-color: #D2E3FC;\n",
              "      --hover-bg-color: #434B5C;\n",
              "      --hover-fill-color: #FFFFFF;\n",
              "      --disabled-bg-color: #3B4455;\n",
              "      --disabled-fill-color: #666;\n",
              "  }\n",
              "\n",
              "  .colab-df-quickchart {\n",
              "    background-color: var(--bg-color);\n",
              "    border: none;\n",
              "    border-radius: 50%;\n",
              "    cursor: pointer;\n",
              "    display: none;\n",
              "    fill: var(--fill-color);\n",
              "    height: 32px;\n",
              "    padding: 0;\n",
              "    width: 32px;\n",
              "  }\n",
              "\n",
              "  .colab-df-quickchart:hover {\n",
              "    background-color: var(--hover-bg-color);\n",
              "    box-shadow: 0 1px 2px rgba(60, 64, 67, 0.3), 0 1px 3px 1px rgba(60, 64, 67, 0.15);\n",
              "    fill: var(--button-hover-fill-color);\n",
              "  }\n",
              "\n",
              "  .colab-df-quickchart-complete:disabled,\n",
              "  .colab-df-quickchart-complete:disabled:hover {\n",
              "    background-color: var(--disabled-bg-color);\n",
              "    fill: var(--disabled-fill-color);\n",
              "    box-shadow: none;\n",
              "  }\n",
              "\n",
              "  .colab-df-spinner {\n",
              "    border: 2px solid var(--fill-color);\n",
              "    border-color: transparent;\n",
              "    border-bottom-color: var(--fill-color);\n",
              "    animation:\n",
              "      spin 1s steps(1) infinite;\n",
              "  }\n",
              "\n",
              "  @keyframes spin {\n",
              "    0% {\n",
              "      border-color: transparent;\n",
              "      border-bottom-color: var(--fill-color);\n",
              "      border-left-color: var(--fill-color);\n",
              "    }\n",
              "    20% {\n",
              "      border-color: transparent;\n",
              "      border-left-color: var(--fill-color);\n",
              "      border-top-color: var(--fill-color);\n",
              "    }\n",
              "    30% {\n",
              "      border-color: transparent;\n",
              "      border-left-color: var(--fill-color);\n",
              "      border-top-color: var(--fill-color);\n",
              "      border-right-color: var(--fill-color);\n",
              "    }\n",
              "    40% {\n",
              "      border-color: transparent;\n",
              "      border-right-color: var(--fill-color);\n",
              "      border-top-color: var(--fill-color);\n",
              "    }\n",
              "    60% {\n",
              "      border-color: transparent;\n",
              "      border-right-color: var(--fill-color);\n",
              "    }\n",
              "    80% {\n",
              "      border-color: transparent;\n",
              "      border-right-color: var(--fill-color);\n",
              "      border-bottom-color: var(--fill-color);\n",
              "    }\n",
              "    90% {\n",
              "      border-color: transparent;\n",
              "      border-bottom-color: var(--fill-color);\n",
              "    }\n",
              "  }\n",
              "</style>\n",
              "\n",
              "  <script>\n",
              "    async function quickchart(key) {\n",
              "      const quickchartButtonEl =\n",
              "        document.querySelector('#' + key + ' button');\n",
              "      quickchartButtonEl.disabled = true;  // To prevent multiple clicks.\n",
              "      quickchartButtonEl.classList.add('colab-df-spinner');\n",
              "      try {\n",
              "        const charts = await google.colab.kernel.invokeFunction(\n",
              "            'suggestCharts', [key], {});\n",
              "      } catch (error) {\n",
              "        console.error('Error during call to suggestCharts:', error);\n",
              "      }\n",
              "      quickchartButtonEl.classList.remove('colab-df-spinner');\n",
              "      quickchartButtonEl.classList.add('colab-df-quickchart-complete');\n",
              "    }\n",
              "    (() => {\n",
              "      let quickchartButtonEl =\n",
              "        document.querySelector('#df-24a6ff5f-0f36-4e1f-9bc8-6adcf8f29a35 button');\n",
              "      quickchartButtonEl.style.display =\n",
              "        google.colab.kernel.accessAllowed ? 'block' : 'none';\n",
              "    })();\n",
              "  </script>\n",
              "</div>\n",
              "    </div>\n",
              "  </div>\n"
            ]
          },
          "metadata": {},
          "execution_count": 19
        }
      ],
      "source": [
        "# check if any of the features is non-numeric (categorical/ordinal). if found convert these to ohe or other accordingly\n",
        "X.head()"
      ]
    },
    {
      "cell_type": "code",
      "source": [
        "sns.heatmap(X.corr(),cmap='magma',annot=True)"
      ],
      "metadata": {
        "colab": {
          "base_uri": "https://localhost:8080/",
          "height": 567
        },
        "id": "juffffPLnxLP",
        "outputId": "a391210e-b9d3-4b06-f913-10048c061d18"
      },
      "id": "juffffPLnxLP",
      "execution_count": 20,
      "outputs": [
        {
          "output_type": "execute_result",
          "data": {
            "text/plain": [
              "<Axes: >"
            ]
          },
          "metadata": {},
          "execution_count": 20
        },
        {
          "output_type": "display_data",
          "data": {
            "text/plain": [
              "<Figure size 640x480 with 2 Axes>"
            ],
            "image/png": "[encoded data removed]"
          },
          "metadata": {}
        }
      ]
    },
    {
      "cell_type": "markdown",
      "id": "c97394e1",
      "metadata": {
        "id": "c97394e1"
      },
      "source": [
        "### Train_Test Split"
      ]
    },
    {
      "cell_type": "code",
      "execution_count": 21,
      "id": "7f3021ac",
      "metadata": {
        "id": "7f3021ac"
      },
      "outputs": [],
      "source": [
        "#Split the data into train / test 90:10 ratio. and keep test data separate for final test\n",
        "X_train,X_test,y_train,y_test = train_test_split(X,y,test_size=0.1,random_state=1)"
      ]
    },
    {
      "cell_type": "markdown",
      "metadata": {
        "id": "0001340e-ae8f-41f8-86a8-ca61d658c934"
      },
      "source": [
        "### Defining Model function"
      ],
      "id": "0001340e-ae8f-41f8-86a8-ca61d658c934"
    },
    {
      "cell_type": "code",
      "execution_count": 22,
      "id": "9081df20",
      "metadata": {
        "id": "9081df20"
      },
      "outputs": [],
      "source": [
        "# define the regression model, use of no. of layers / units is upto you.\n",
        "\n",
        "model = keras.Sequential()\n",
        "model.add(layers.Input(shape=(X_train.shape[1],)))\n",
        "model.add(layers.Dense(80, activation='relu'))\n",
        "model.add(layers.Dense(60, activation='relu'))\n",
        "model.add(layers.Dense(1))"
      ]
    },
    {
      "cell_type": "code",
      "source": [
        "model.summary()"
      ],
      "metadata": {
        "colab": {
          "base_uri": "https://localhost:8080/"
        },
        "id": "2ArYrPzzf7WQ",
        "outputId": "ff4276a6-c942-46b8-da75-a510fb7bc410"
      },
      "id": "2ArYrPzzf7WQ",
      "execution_count": 23,
      "outputs": [
        {
          "output_type": "stream",
          "name": "stdout",
          "text": [
            "Model: \"sequential\"\n",
            "_________________________________________________________________\n",
            " Layer (type)                Output Shape              Param #   \n",
            "=================================================================\n",
            " dense (Dense)               (None, 80)                720       \n",
            "                                                                 \n",
            " dense_1 (Dense)             (None, 60)                4860      \n",
            "                                                                 \n",
            " dense_2 (Dense)             (None, 1)                 61        \n",
            "                                                                 \n",
            "=================================================================\n",
            "Total params: 5,641\n",
            "Trainable params: 5,641\n",
            "Non-trainable params: 0\n",
            "_________________________________________________________________\n"
          ]
        }
      ]
    },
    {
      "cell_type": "code",
      "execution_count": 24,
      "id": "c5af4661",
      "metadata": {
        "id": "c5af4661"
      },
      "outputs": [],
      "source": [
        "#add model.compile step\n",
        "\n",
        "optimizer = keras.optimizers.Adam(learning_rate=1e-3)\n",
        "model.compile(loss='mean_squared_error',\n",
        "             optimizer=optimizer,\n",
        "             metrics=['mean_absolute_error'])"
      ]
    },
    {
      "cell_type": "markdown",
      "metadata": {
        "id": "b600bcf3-36b9-43f6-b949-f1a243e402e3"
      },
      "source": [
        "### A. Building a baseline model"
      ],
      "id": "b600bcf3-36b9-43f6-b949-f1a243e402e3"
    },
    {
      "cell_type": "markdown",
      "metadata": {
        "id": "24bf1899-aa57-4b94-8fbd-0194a9ef367f"
      },
      "source": [
        "#### Model fitting and evaluation (with non_normalized data, epochs=50) -- repeated 50 times"
      ],
      "id": "24bf1899-aa57-4b94-8fbd-0194a9ef367f"
    },
    {
      "cell_type": "code",
      "execution_count": 25,
      "id": "6f1922b6",
      "metadata": {
        "colab": {
          "base_uri": "https://localhost:8080/"
        },
        "id": "6f1922b6",
        "outputId": "2f3b804c-8d24-434b-9ab0-adc844eeea48"
      },
      "outputs": [
        {
          "output_type": "stream",
          "name": "stdout",
          "text": [
            "Epoch 1/50\n",
            "23/23 [==============================] - 5s 63ms/step - loss: 3521.7207 - mean_absolute_error: 46.2842 - val_loss: 474.9874 - val_mean_absolute_error: 17.5873\n",
            "Epoch 2/50\n",
            "23/23 [==============================] - 0s 18ms/step - loss: 602.3389 - mean_absolute_error: 19.5123 - val_loss: 337.1667 - val_mean_absolute_error: 14.8365\n",
            "Epoch 3/50\n",
            "23/23 [==============================] - 0s 19ms/step - loss: 298.4926 - mean_absolute_error: 13.7945 - val_loss: 246.4358 - val_mean_absolute_error: 12.4936\n",
            "Epoch 4/50\n",
            "23/23 [==============================] - 0s 19ms/step - loss: 224.8156 - mean_absolute_error: 12.2004 - val_loss: 218.4088 - val_mean_absolute_error: 11.4792\n",
            "Epoch 5/50\n",
            "23/23 [==============================] - 0s 14ms/step - loss: 187.3359 - mean_absolute_error: 10.9234 - val_loss: 167.3167 - val_mean_absolute_error: 10.3797\n",
            "Epoch 6/50\n",
            "23/23 [==============================] - 0s 12ms/step - loss: 154.9727 - mean_absolute_error: 9.9276 - val_loss: 149.1903 - val_mean_absolute_error: 9.5616\n",
            "Epoch 7/50\n",
            "23/23 [==============================] - 0s 9ms/step - loss: 148.3329 - mean_absolute_error: 9.6212 - val_loss: 140.3540 - val_mean_absolute_error: 9.1869\n",
            "Epoch 8/50\n",
            "23/23 [==============================] - 0s 9ms/step - loss: 122.4705 - mean_absolute_error: 8.6090 - val_loss: 147.4457 - val_mean_absolute_error: 9.2916\n",
            "Epoch 9/50\n",
            "23/23 [==============================] - 0s 14ms/step - loss: 114.3452 - mean_absolute_error: 8.3020 - val_loss: 129.7221 - val_mean_absolute_error: 8.6858\n",
            "Epoch 10/50\n",
            "23/23 [==============================] - 0s 10ms/step - loss: 108.4498 - mean_absolute_error: 7.9949 - val_loss: 119.0247 - val_mean_absolute_error: 8.3644\n",
            "Epoch 11/50\n",
            "23/23 [==============================] - 0s 8ms/step - loss: 105.6377 - mean_absolute_error: 7.9543 - val_loss: 108.6771 - val_mean_absolute_error: 8.0866\n",
            "Epoch 12/50\n",
            "23/23 [==============================] - 0s 8ms/step - loss: 97.9138 - mean_absolute_error: 7.6664 - val_loss: 102.5006 - val_mean_absolute_error: 7.7502\n",
            "Epoch 13/50\n",
            "23/23 [==============================] - 0s 7ms/step - loss: 95.7613 - mean_absolute_error: 7.5147 - val_loss: 100.2926 - val_mean_absolute_error: 7.6973\n",
            "Epoch 14/50\n",
            "23/23 [==============================] - 0s 10ms/step - loss: 88.4814 - mean_absolute_error: 7.1661 - val_loss: 95.8195 - val_mean_absolute_error: 7.4204\n",
            "Epoch 15/50\n",
            "23/23 [==============================] - 0s 9ms/step - loss: 88.0961 - mean_absolute_error: 7.1826 - val_loss: 97.7169 - val_mean_absolute_error: 7.6718\n",
            "Epoch 16/50\n",
            "23/23 [==============================] - 0s 7ms/step - loss: 85.0765 - mean_absolute_error: 6.9708 - val_loss: 92.6007 - val_mean_absolute_error: 7.3467\n",
            "Epoch 17/50\n",
            "23/23 [==============================] - 0s 11ms/step - loss: 90.4544 - mean_absolute_error: 7.2891 - val_loss: 110.0667 - val_mean_absolute_error: 8.0835\n",
            "Epoch 18/50\n",
            "23/23 [==============================] - 0s 9ms/step - loss: 93.0443 - mean_absolute_error: 7.4574 - val_loss: 93.1917 - val_mean_absolute_error: 7.4594\n",
            "Epoch 19/50\n",
            "23/23 [==============================] - 0s 7ms/step - loss: 78.3156 - mean_absolute_error: 6.7341 - val_loss: 97.4512 - val_mean_absolute_error: 7.7107\n",
            "Epoch 20/50\n",
            "23/23 [==============================] - 0s 8ms/step - loss: 77.8670 - mean_absolute_error: 6.7268 - val_loss: 100.1565 - val_mean_absolute_error: 7.7524\n",
            "Epoch 21/50\n",
            "23/23 [==============================] - 0s 8ms/step - loss: 79.4050 - mean_absolute_error: 6.8260 - val_loss: 88.8027 - val_mean_absolute_error: 7.2421\n",
            "Epoch 22/50\n",
            "23/23 [==============================] - 0s 17ms/step - loss: 82.9828 - mean_absolute_error: 7.0173 - val_loss: 82.0219 - val_mean_absolute_error: 6.9915\n",
            "Epoch 23/50\n",
            "23/23 [==============================] - 0s 9ms/step - loss: 76.9569 - mean_absolute_error: 6.7365 - val_loss: 80.8099 - val_mean_absolute_error: 6.8907\n",
            "Epoch 24/50\n",
            "23/23 [==============================] - 0s 8ms/step - loss: 90.3717 - mean_absolute_error: 7.4281 - val_loss: 91.9490 - val_mean_absolute_error: 7.3912\n",
            "Epoch 25/50\n",
            "23/23 [==============================] - 0s 11ms/step - loss: 77.9944 - mean_absolute_error: 6.8109 - val_loss: 93.3150 - val_mean_absolute_error: 7.6408\n",
            "Epoch 26/50\n",
            "23/23 [==============================] - 0s 12ms/step - loss: 71.7916 - mean_absolute_error: 6.5592 - val_loss: 77.5456 - val_mean_absolute_error: 6.7665\n",
            "Epoch 27/50\n",
            "23/23 [==============================] - 0s 7ms/step - loss: 73.8231 - mean_absolute_error: 6.6535 - val_loss: 84.2429 - val_mean_absolute_error: 7.0201\n",
            "Epoch 28/50\n",
            "23/23 [==============================] - 0s 7ms/step - loss: 77.5623 - mean_absolute_error: 6.8872 - val_loss: 93.4465 - val_mean_absolute_error: 7.6642\n",
            "Epoch 29/50\n",
            "23/23 [==============================] - 0s 10ms/step - loss: 75.3843 - mean_absolute_error: 6.6414 - val_loss: 84.2651 - val_mean_absolute_error: 7.0000\n",
            "Epoch 30/50\n",
            "23/23 [==============================] - 0s 8ms/step - loss: 75.3382 - mean_absolute_error: 6.7019 - val_loss: 82.0745 - val_mean_absolute_error: 7.0073\n",
            "Epoch 31/50\n",
            "23/23 [==============================] - 0s 14ms/step - loss: 73.5090 - mean_absolute_error: 6.5557 - val_loss: 78.6821 - val_mean_absolute_error: 6.8344\n",
            "Epoch 32/50\n",
            "23/23 [==============================] - 0s 10ms/step - loss: 69.7736 - mean_absolute_error: 6.3744 - val_loss: 71.2154 - val_mean_absolute_error: 6.4872\n",
            "Epoch 33/50\n",
            "23/23 [==============================] - 0s 16ms/step - loss: 77.9349 - mean_absolute_error: 6.8182 - val_loss: 75.7747 - val_mean_absolute_error: 6.7721\n",
            "Epoch 34/50\n",
            "23/23 [==============================] - 0s 9ms/step - loss: 73.8485 - mean_absolute_error: 6.6194 - val_loss: 71.1395 - val_mean_absolute_error: 6.4192\n",
            "Epoch 35/50\n",
            "23/23 [==============================] - 0s 7ms/step - loss: 77.2650 - mean_absolute_error: 6.9360 - val_loss: 77.0214 - val_mean_absolute_error: 6.6666\n",
            "Epoch 36/50\n",
            "23/23 [==============================] - 0s 21ms/step - loss: 72.2174 - mean_absolute_error: 6.5629 - val_loss: 93.4246 - val_mean_absolute_error: 7.4683\n",
            "Epoch 37/50\n",
            "23/23 [==============================] - 0s 7ms/step - loss: 69.7400 - mean_absolute_error: 6.3702 - val_loss: 68.0752 - val_mean_absolute_error: 6.3238\n",
            "Epoch 38/50\n",
            "23/23 [==============================] - 0s 12ms/step - loss: 72.8974 - mean_absolute_error: 6.6666 - val_loss: 78.8956 - val_mean_absolute_error: 6.9415\n",
            "Epoch 39/50\n",
            "23/23 [==============================] - 0s 6ms/step - loss: 68.6235 - mean_absolute_error: 6.2955 - val_loss: 68.4088 - val_mean_absolute_error: 6.2300\n",
            "Epoch 40/50\n",
            "23/23 [==============================] - 0s 7ms/step - loss: 73.9779 - mean_absolute_error: 6.6412 - val_loss: 68.0019 - val_mean_absolute_error: 6.3854\n",
            "Epoch 41/50\n",
            "23/23 [==============================] - 0s 10ms/step - loss: 67.0550 - mean_absolute_error: 6.2871 - val_loss: 68.3843 - val_mean_absolute_error: 6.3073\n",
            "Epoch 42/50\n",
            "23/23 [==============================] - 0s 7ms/step - loss: 69.3120 - mean_absolute_error: 6.3614 - val_loss: 67.3635 - val_mean_absolute_error: 6.2362\n",
            "Epoch 43/50\n",
            "23/23 [==============================] - 0s 8ms/step - loss: 67.8350 - mean_absolute_error: 6.3039 - val_loss: 88.7466 - val_mean_absolute_error: 7.1434\n",
            "Epoch 44/50\n",
            "23/23 [==============================] - 0s 8ms/step - loss: 75.3171 - mean_absolute_error: 6.7427 - val_loss: 67.6488 - val_mean_absolute_error: 6.1802\n",
            "Epoch 45/50\n",
            "23/23 [==============================] - 0s 10ms/step - loss: 68.6025 - mean_absolute_error: 6.4010 - val_loss: 82.1799 - val_mean_absolute_error: 7.3126\n",
            "Epoch 46/50\n",
            "23/23 [==============================] - 0s 12ms/step - loss: 87.0303 - mean_absolute_error: 7.4168 - val_loss: 76.2947 - val_mean_absolute_error: 6.5529\n",
            "Epoch 47/50\n",
            "23/23 [==============================] - 0s 10ms/step - loss: 68.1488 - mean_absolute_error: 6.3307 - val_loss: 80.9485 - val_mean_absolute_error: 6.8538\n",
            "Epoch 48/50\n",
            "23/23 [==============================] - 0s 20ms/step - loss: 78.4168 - mean_absolute_error: 6.9058 - val_loss: 84.6504 - val_mean_absolute_error: 6.9942\n",
            "Epoch 49/50\n",
            "23/23 [==============================] - 0s 21ms/step - loss: 83.5807 - mean_absolute_error: 7.2130 - val_loss: 72.4380 - val_mean_absolute_error: 6.7780\n",
            "Epoch 50/50\n",
            "23/23 [==============================] - 1s 24ms/step - loss: 69.0888 - mean_absolute_error: 6.4945 - val_loss: 97.5144 - val_mean_absolute_error: 8.0345\n"
          ]
        },
        {
          "output_type": "execute_result",
          "data": {
            "text/plain": [
              "<keras.callbacks.History at 0x7ad34d2adfc0>"
            ]
          },
          "metadata": {},
          "execution_count": 25
        }
      ],
      "source": [
        "#use model.fit with non-normalized data.\n",
        "\n",
        "model.fit(X_train,\n",
        "          y_train,\n",
        "          epochs=50,\n",
        "          validation_split=0.2,\n",
        "          batch_size=32)\n"
      ]
    },
    {
      "cell_type": "code",
      "source": [
        "y_pred = model.predict(X_test)\n"
      ],
      "metadata": {
        "colab": {
          "base_uri": "https://localhost:8080/"
        },
        "id": "Onw1Gb_ifppX",
        "outputId": "3f17d9ec-5a3d-454e-b021-ef2ab39b20f2"
      },
      "id": "Onw1Gb_ifppX",
      "execution_count": 26,
      "outputs": [
        {
          "output_type": "stream",
          "name": "stdout",
          "text": [
            "4/4 [==============================] - 0s 4ms/step\n"
          ]
        }
      ]
    },
    {
      "cell_type": "code",
      "execution_count": 27,
      "id": "4cc6846f",
      "metadata": {
        "colab": {
          "base_uri": "https://localhost:8080/"
        },
        "id": "4cc6846f",
        "outputId": "2a23baec-6652-4945-ea9f-eb2083589bab"
      },
      "outputs": [
        {
          "output_type": "stream",
          "name": "stdout",
          "text": [
            "7.76698099797315\n",
            "92.92352338572769\n"
          ]
        }
      ],
      "source": [
        "# evaluate mode using test data and print accuracy\n",
        "mae = mean_absolute_error(y_test, y_pred)\n",
        "mse = mean_squared_error(y_test, y_pred)\n",
        "\n",
        "print(mae)\n",
        "print(mse)"
      ]
    },
    {
      "cell_type": "markdown",
      "metadata": {
        "id": "16e68f76-a7da-4960-8f4b-02f5884ecd71"
      },
      "source": [
        "## B. Modeling and Evaluation using 'normalized data'"
      ],
      "id": "16e68f76-a7da-4960-8f4b-02f5884ecd71"
    },
    {
      "cell_type": "markdown",
      "metadata": {
        "id": "4fbd0efe-1086-4341-b30a-f021e59e115d"
      },
      "source": [
        "#### Features Normalization"
      ],
      "id": "4fbd0efe-1086-4341-b30a-f021e59e115d"
    },
    {
      "cell_type": "code",
      "execution_count": 28,
      "id": "ff585acb",
      "metadata": {
        "id": "ff585acb"
      },
      "outputs": [],
      "source": [
        "# use normalization of the cleaned data (obtained after null checking)\n",
        "mean = X_train.mean(axis=0)\n",
        "X_train_norm = X_train-mean\n",
        "std = X_train.std(axis=0)\n",
        "X_train_norm = X_train_norm/std\n",
        "X_test_norm = X_test-mean\n",
        "X_test_norm = X_test_norm/std\n"
      ]
    },
    {
      "cell_type": "code",
      "source": [
        "# use normalization of the cleaned data (obtained after null checking)\n",
        "\n",
        "\n",
        "scaler = StandardScaler()\n",
        "X_train = scaler.fit_transform(X_train)\n",
        "X_test = scaler.transform(X_test)"
      ],
      "metadata": {
        "id": "s-24lJwuCDdh"
      },
      "id": "s-24lJwuCDdh",
      "execution_count": 29,
      "outputs": []
    },
    {
      "cell_type": "markdown",
      "metadata": {
        "id": "9de596b8-81d2-42e5-bc41-b81e72801503"
      },
      "source": [
        "#### train_test split"
      ],
      "id": "9de596b8-81d2-42e5-bc41-b81e72801503"
    },
    {
      "cell_type": "code",
      "execution_count": 30,
      "id": "9129bd74",
      "metadata": {
        "id": "9129bd74"
      },
      "outputs": [],
      "source": [
        "#train test split for Normalized Data\n",
        "from sklearn.model_selection import train_test_split\n",
        "X_train, X_test, y_train, y_test = train_test_split(X_train, y_train, test_size=0.10, random_state=1)"
      ]
    },
    {
      "cell_type": "markdown",
      "metadata": {
        "id": "cfda6b92-78cf-418b-8b88-7fb7fea0aa04"
      },
      "source": [
        "### Modeling & evaluation"
      ],
      "id": "cfda6b92-78cf-418b-8b88-7fb7fea0aa04"
    },
    {
      "cell_type": "code",
      "execution_count": 31,
      "id": "aff4cffa",
      "metadata": {
        "id": "aff4cffa"
      },
      "outputs": [],
      "source": [
        "#create model with same no. of layers / units and see impact of normalized data on accuracy\n",
        "\n",
        "model_b = keras.Sequential()\n",
        "model_b.add(layers.Input(shape=(X_train.shape[1],)))\n",
        "model_b.add(layers.Dense(80, activation='relu'))\n",
        "model_b.add(layers.Dense(60, activation='relu'))\n",
        "model_b.add(layers.Dense(1))\n",
        "\n"
      ]
    },
    {
      "cell_type": "code",
      "source": [
        "optimizer = keras.optimizers.Adam(learning_rate=1e-3)\n",
        "model_b.compile(loss='mean_squared_error',\n",
        "             optimizer=optimizer,\n",
        "             metrics=['mean_absolute_error'])"
      ],
      "metadata": {
        "id": "zt_BKK3rBXBn"
      },
      "id": "zt_BKK3rBXBn",
      "execution_count": 32,
      "outputs": []
    },
    {
      "cell_type": "code",
      "source": [
        "model_b.summary()"
      ],
      "metadata": {
        "colab": {
          "base_uri": "https://localhost:8080/"
        },
        "id": "DNFUmYIIMoKP",
        "outputId": "777bda84-7397-44cb-8717-52f1000ea4a9"
      },
      "id": "DNFUmYIIMoKP",
      "execution_count": 33,
      "outputs": [
        {
          "output_type": "stream",
          "name": "stdout",
          "text": [
            "Model: \"sequential_1\"\n",
            "_________________________________________________________________\n",
            " Layer (type)                Output Shape              Param #   \n",
            "=================================================================\n",
            " dense_3 (Dense)             (None, 80)                720       \n",
            "                                                                 \n",
            " dense_4 (Dense)             (None, 60)                4860      \n",
            "                                                                 \n",
            " dense_5 (Dense)             (None, 1)                 61        \n",
            "                                                                 \n",
            "=================================================================\n",
            "Total params: 5,641\n",
            "Trainable params: 5,641\n",
            "Non-trainable params: 0\n",
            "_________________________________________________________________\n"
          ]
        }
      ]
    },
    {
      "cell_type": "code",
      "source": [
        "model_b.fit(X_train,\n",
        "          y_train,\n",
        "          epochs=50,\n",
        "          validation_split=0.2,\n",
        "          batch_size=32)"
      ],
      "metadata": {
        "colab": {
          "base_uri": "https://localhost:8080/"
        },
        "id": "NXV23y18kEAV",
        "outputId": "dbec1152-49ce-4d08-f829-52749ef44e4e"
      },
      "id": "NXV23y18kEAV",
      "execution_count": 34,
      "outputs": [
        {
          "output_type": "stream",
          "name": "stdout",
          "text": [
            "Epoch 1/50\n",
            "21/21 [==============================] - 5s 50ms/step - loss: 1452.3862 - mean_absolute_error: 34.4257 - val_loss: 1378.7917 - val_mean_absolute_error: 33.1616\n",
            "Epoch 2/50\n",
            "21/21 [==============================] - 0s 15ms/step - loss: 1329.8118 - mean_absolute_error: 32.6225 - val_loss: 1233.3856 - val_mean_absolute_error: 30.9975\n",
            "Epoch 3/50\n",
            "21/21 [==============================] - 0s 19ms/step - loss: 1137.2195 - mean_absolute_error: 29.6260 - val_loss: 995.4711 - val_mean_absolute_error: 27.2646\n",
            "Epoch 4/50\n",
            "21/21 [==============================] - 0s 13ms/step - loss: 845.0065 - mean_absolute_error: 24.6985 - val_loss: 677.3344 - val_mean_absolute_error: 21.6007\n",
            "Epoch 5/50\n",
            "21/21 [==============================] - 0s 18ms/step - loss: 511.8573 - mean_absolute_error: 18.1738 - val_loss: 370.9292 - val_mean_absolute_error: 15.2125\n",
            "Epoch 6/50\n",
            "21/21 [==============================] - 0s 7ms/step - loss: 275.2128 - mean_absolute_error: 13.1946 - val_loss: 195.4745 - val_mean_absolute_error: 11.0400\n",
            "Epoch 7/50\n",
            "21/21 [==============================] - 0s 5ms/step - loss: 173.9202 - mean_absolute_error: 10.7180 - val_loss: 169.4967 - val_mean_absolute_error: 10.4394\n",
            "Epoch 8/50\n",
            "21/21 [==============================] - 0s 5ms/step - loss: 146.3418 - mean_absolute_error: 9.8316 - val_loss: 167.6912 - val_mean_absolute_error: 10.1824\n",
            "Epoch 9/50\n",
            "21/21 [==============================] - 0s 4ms/step - loss: 136.9098 - mean_absolute_error: 9.5093 - val_loss: 165.7249 - val_mean_absolute_error: 10.0193\n",
            "Epoch 10/50\n",
            "21/21 [==============================] - 0s 4ms/step - loss: 131.5601 - mean_absolute_error: 9.2838 - val_loss: 160.5105 - val_mean_absolute_error: 9.8292\n",
            "Epoch 11/50\n",
            "21/21 [==============================] - 0s 4ms/step - loss: 127.5299 - mean_absolute_error: 9.1378 - val_loss: 153.0352 - val_mean_absolute_error: 9.6078\n",
            "Epoch 12/50\n",
            "21/21 [==============================] - 0s 5ms/step - loss: 123.9300 - mean_absolute_error: 9.0145 - val_loss: 148.7501 - val_mean_absolute_error: 9.4856\n",
            "Epoch 13/50\n",
            "21/21 [==============================] - 0s 5ms/step - loss: 121.2997 - mean_absolute_error: 8.9172 - val_loss: 143.2966 - val_mean_absolute_error: 9.3073\n",
            "Epoch 14/50\n",
            "21/21 [==============================] - 0s 5ms/step - loss: 118.4088 - mean_absolute_error: 8.8066 - val_loss: 142.2641 - val_mean_absolute_error: 9.2294\n",
            "Epoch 15/50\n",
            "21/21 [==============================] - 0s 5ms/step - loss: 116.3472 - mean_absolute_error: 8.7208 - val_loss: 140.2402 - val_mean_absolute_error: 9.1378\n",
            "Epoch 16/50\n",
            "21/21 [==============================] - 0s 4ms/step - loss: 114.0283 - mean_absolute_error: 8.6402 - val_loss: 134.2885 - val_mean_absolute_error: 8.9975\n",
            "Epoch 17/50\n",
            "21/21 [==============================] - 0s 5ms/step - loss: 112.3285 - mean_absolute_error: 8.5817 - val_loss: 134.4174 - val_mean_absolute_error: 8.9724\n",
            "Epoch 18/50\n",
            "21/21 [==============================] - 0s 5ms/step - loss: 110.0735 - mean_absolute_error: 8.4902 - val_loss: 132.7569 - val_mean_absolute_error: 8.9024\n",
            "Epoch 19/50\n",
            "21/21 [==============================] - 0s 5ms/step - loss: 108.1499 - mean_absolute_error: 8.4018 - val_loss: 131.5573 - val_mean_absolute_error: 8.8788\n",
            "Epoch 20/50\n",
            "21/21 [==============================] - 0s 4ms/step - loss: 106.8462 - mean_absolute_error: 8.3583 - val_loss: 127.5477 - val_mean_absolute_error: 8.7335\n",
            "Epoch 21/50\n",
            "21/21 [==============================] - 0s 4ms/step - loss: 105.3327 - mean_absolute_error: 8.2865 - val_loss: 127.4242 - val_mean_absolute_error: 8.6975\n",
            "Epoch 22/50\n",
            "21/21 [==============================] - 0s 5ms/step - loss: 103.3853 - mean_absolute_error: 8.2164 - val_loss: 123.9919 - val_mean_absolute_error: 8.5887\n",
            "Epoch 23/50\n",
            "21/21 [==============================] - 0s 5ms/step - loss: 102.3235 - mean_absolute_error: 8.1701 - val_loss: 123.4004 - val_mean_absolute_error: 8.5657\n",
            "Epoch 24/50\n",
            "21/21 [==============================] - 0s 5ms/step - loss: 100.6114 - mean_absolute_error: 8.1415 - val_loss: 119.3521 - val_mean_absolute_error: 8.4506\n",
            "Epoch 25/50\n",
            "21/21 [==============================] - 0s 5ms/step - loss: 99.3407 - mean_absolute_error: 8.0702 - val_loss: 118.1727 - val_mean_absolute_error: 8.3896\n",
            "Epoch 26/50\n",
            "21/21 [==============================] - 0s 4ms/step - loss: 98.0025 - mean_absolute_error: 7.9939 - val_loss: 117.5713 - val_mean_absolute_error: 8.3520\n",
            "Epoch 27/50\n",
            "21/21 [==============================] - 0s 4ms/step - loss: 96.5752 - mean_absolute_error: 7.9359 - val_loss: 115.2210 - val_mean_absolute_error: 8.2542\n",
            "Epoch 28/50\n",
            "21/21 [==============================] - 0s 5ms/step - loss: 95.5633 - mean_absolute_error: 7.9071 - val_loss: 113.7794 - val_mean_absolute_error: 8.2227\n",
            "Epoch 29/50\n",
            "21/21 [==============================] - 0s 4ms/step - loss: 94.2620 - mean_absolute_error: 7.8409 - val_loss: 112.3713 - val_mean_absolute_error: 8.1485\n",
            "Epoch 30/50\n",
            "21/21 [==============================] - 0s 5ms/step - loss: 92.8987 - mean_absolute_error: 7.7632 - val_loss: 110.7517 - val_mean_absolute_error: 8.0837\n",
            "Epoch 31/50\n",
            "21/21 [==============================] - 0s 5ms/step - loss: 91.8704 - mean_absolute_error: 7.7117 - val_loss: 108.6177 - val_mean_absolute_error: 8.0114\n",
            "Epoch 32/50\n",
            "21/21 [==============================] - 0s 6ms/step - loss: 90.4530 - mean_absolute_error: 7.6523 - val_loss: 108.0642 - val_mean_absolute_error: 7.9642\n",
            "Epoch 33/50\n",
            "21/21 [==============================] - 0s 5ms/step - loss: 89.4487 - mean_absolute_error: 7.6008 - val_loss: 105.8409 - val_mean_absolute_error: 7.8841\n",
            "Epoch 34/50\n",
            "21/21 [==============================] - 0s 5ms/step - loss: 88.5049 - mean_absolute_error: 7.5737 - val_loss: 105.3721 - val_mean_absolute_error: 7.8530\n",
            "Epoch 35/50\n",
            "21/21 [==============================] - 0s 6ms/step - loss: 86.8178 - mean_absolute_error: 7.4895 - val_loss: 103.9510 - val_mean_absolute_error: 7.7836\n",
            "Epoch 36/50\n",
            "21/21 [==============================] - 0s 6ms/step - loss: 85.5759 - mean_absolute_error: 7.4313 - val_loss: 101.9152 - val_mean_absolute_error: 7.7102\n",
            "Epoch 37/50\n",
            "21/21 [==============================] - 0s 5ms/step - loss: 84.4475 - mean_absolute_error: 7.3709 - val_loss: 100.0864 - val_mean_absolute_error: 7.6265\n",
            "Epoch 38/50\n",
            "21/21 [==============================] - 0s 5ms/step - loss: 83.4788 - mean_absolute_error: 7.3051 - val_loss: 99.6288 - val_mean_absolute_error: 7.6110\n",
            "Epoch 39/50\n",
            "21/21 [==============================] - 0s 5ms/step - loss: 82.3064 - mean_absolute_error: 7.2465 - val_loss: 96.8488 - val_mean_absolute_error: 7.5059\n",
            "Epoch 40/50\n",
            "21/21 [==============================] - 0s 4ms/step - loss: 80.8443 - mean_absolute_error: 7.1950 - val_loss: 95.1736 - val_mean_absolute_error: 7.4101\n",
            "Epoch 41/50\n",
            "21/21 [==============================] - 0s 6ms/step - loss: 79.7823 - mean_absolute_error: 7.1203 - val_loss: 93.1219 - val_mean_absolute_error: 7.3089\n",
            "Epoch 42/50\n",
            "21/21 [==============================] - 0s 5ms/step - loss: 78.3748 - mean_absolute_error: 7.0403 - val_loss: 91.8423 - val_mean_absolute_error: 7.2527\n",
            "Epoch 43/50\n",
            "21/21 [==============================] - 0s 4ms/step - loss: 77.7190 - mean_absolute_error: 7.0474 - val_loss: 91.2369 - val_mean_absolute_error: 7.2188\n",
            "Epoch 44/50\n",
            "21/21 [==============================] - 0s 5ms/step - loss: 76.1906 - mean_absolute_error: 6.9171 - val_loss: 88.2256 - val_mean_absolute_error: 7.0741\n",
            "Epoch 45/50\n",
            "21/21 [==============================] - 0s 5ms/step - loss: 74.5963 - mean_absolute_error: 6.8419 - val_loss: 87.2681 - val_mean_absolute_error: 7.0298\n",
            "Epoch 46/50\n",
            "21/21 [==============================] - 0s 5ms/step - loss: 73.1567 - mean_absolute_error: 6.7727 - val_loss: 85.8633 - val_mean_absolute_error: 6.9496\n",
            "Epoch 47/50\n",
            "21/21 [==============================] - 0s 4ms/step - loss: 71.7070 - mean_absolute_error: 6.6770 - val_loss: 83.9055 - val_mean_absolute_error: 6.8416\n",
            "Epoch 48/50\n",
            "21/21 [==============================] - 0s 4ms/step - loss: 70.4234 - mean_absolute_error: 6.5993 - val_loss: 81.3638 - val_mean_absolute_error: 6.7136\n",
            "Epoch 49/50\n",
            "21/21 [==============================] - 0s 5ms/step - loss: 69.0242 - mean_absolute_error: 6.5231 - val_loss: 80.3819 - val_mean_absolute_error: 6.6616\n",
            "Epoch 50/50\n",
            "21/21 [==============================] - 0s 5ms/step - loss: 68.4625 - mean_absolute_error: 6.4989 - val_loss: 77.7797 - val_mean_absolute_error: 6.5171\n"
          ]
        },
        {
          "output_type": "execute_result",
          "data": {
            "text/plain": [
              "<keras.callbacks.History at 0x7ad34c795660>"
            ]
          },
          "metadata": {},
          "execution_count": 34
        }
      ]
    },
    {
      "cell_type": "code",
      "source": [
        "y_pred = model_b.predict(X_test)"
      ],
      "metadata": {
        "colab": {
          "base_uri": "https://localhost:8080/"
        },
        "id": "wBpnTPo0DPuY",
        "outputId": "c2e04a03-714b-4cf8-ffb7-88ab0d99c94a"
      },
      "id": "wBpnTPo0DPuY",
      "execution_count": 35,
      "outputs": [
        {
          "output_type": "stream",
          "name": "stdout",
          "text": [
            "3/3 [==============================] - 0s 4ms/step\n"
          ]
        }
      ]
    },
    {
      "cell_type": "code",
      "execution_count": 36,
      "id": "8212db21",
      "metadata": {
        "colab": {
          "base_uri": "https://localhost:8080/"
        },
        "id": "8212db21",
        "outputId": "2678b524-31ba-4a4f-8217-f760e8ce4caf"
      },
      "outputs": [
        {
          "output_type": "stream",
          "name": "stdout",
          "text": [
            "5.568775830950057\n",
            "51.580856593597865\n"
          ]
        }
      ],
      "source": [
        "#evaluate model and print accuracy\n",
        "mae_b = mean_absolute_error(y_test, y_pred)\n",
        "mse_b = mean_squared_error(y_test, y_pred)\n",
        "\n",
        "print(mae_b)\n",
        "print(mse_b)"
      ]
    },
    {
      "cell_type": "markdown",
      "metadata": {
        "id": "47260416-505d-4d8f-b147-0d08ed16e7b8"
      },
      "source": [
        "### Comparison of loss(MSE) / Accuracy between A & B (non-normalized data vs normalized data)"
      ],
      "id": "47260416-505d-4d8f-b147-0d08ed16e7b8"
    },
    {
      "cell_type": "code",
      "execution_count": 37,
      "id": "65274611",
      "metadata": {
        "id": "65274611",
        "colab": {
          "base_uri": "https://localhost:8080/"
        },
        "outputId": "a7ec8033-0163-4fa6-ce26-e56cdc013bce"
      },
      "outputs": [
        {
          "output_type": "stream",
          "name": "stdout",
          "text": [
            "MSE of Non-Normalized Data : 92.92352338572769 while MSE of Normalized Data is : 51.580856593597865\n",
            "MAE of Non-Normalized Data : 7.76698099797315 while MAE of Normalized Data is : 5.568775830950057\n"
          ]
        }
      ],
      "source": [
        "# print mse / accuracy\n",
        "\n",
        "print(f'MSE of Non-Normalized Data : {mse} while MSE of Normalized Data is : {mse_b}')\n",
        "print(f'MAE of Non-Normalized Data : {mae} while MAE of Normalized Data is : {mae_b}')\n"
      ]
    },
    {
      "cell_type": "markdown",
      "metadata": {
        "id": "1ec92adb-c139-49c2-86ef-da4ba613e492"
      },
      "source": [
        "## C. Repeating B with 100 epochs"
      ],
      "id": "1ec92adb-c139-49c2-86ef-da4ba613e492"
    },
    {
      "cell_type": "code",
      "execution_count": 38,
      "id": "56205807",
      "metadata": {
        "id": "56205807"
      },
      "outputs": [],
      "source": [
        "#train model at B. with 100 epochs\n",
        "X_train, X_test, y_train, y_test = train_test_split(X_train, y_train, test_size=0.10, random_state=1)\n",
        "\n",
        "\n"
      ]
    },
    {
      "cell_type": "code",
      "source": [
        "#create model with same no. of layers / units and see impact of normalized data on accuracy\n",
        "model_c = keras.Sequential()\n",
        "model_c.add(layers.Input(shape=(X_train.shape[1],)))\n",
        "model_c.add(layers.Dense(80, activation='relu'))\n",
        "model_c.add(layers.Dense(60, activation='relu'))\n",
        "model_c.add(layers.Dense(1))\n",
        "\n",
        "\n",
        "optimizer = keras.optimizers.Adam(learning_rate=1e-3)\n",
        "model_c.compile(loss='mean_squared_error',\n",
        "             optimizer=optimizer,\n",
        "             metrics=['mean_absolute_error'])\n",
        "\n",
        "model_c.fit(X_train,\n",
        "          y_train,\n",
        "          epochs=100,\n",
        "          validation_split=0.2,\n",
        "          batch_size=32)"
      ],
      "metadata": {
        "colab": {
          "base_uri": "https://localhost:8080/"
        },
        "id": "PW2Ex0l0FSip",
        "outputId": "c1d177ad-1b5f-481f-ddfd-5370f15c9830"
      },
      "id": "PW2Ex0l0FSip",
      "execution_count": 39,
      "outputs": [
        {
          "output_type": "stream",
          "name": "stdout",
          "text": [
            "Epoch 1/100\n",
            "19/19 [==============================] - 1s 15ms/step - loss: 1443.5701 - mean_absolute_error: 34.1931 - val_loss: 1456.7881 - val_mean_absolute_error: 34.4627\n",
            "Epoch 2/100\n",
            "19/19 [==============================] - 0s 7ms/step - loss: 1324.3252 - mean_absolute_error: 32.4136 - val_loss: 1307.6700 - val_mean_absolute_error: 32.2378\n",
            "Epoch 3/100\n",
            "19/19 [==============================] - 0s 8ms/step - loss: 1135.4780 - mean_absolute_error: 29.4077 - val_loss: 1059.4806 - val_mean_absolute_error: 28.2478\n",
            "Epoch 4/100\n",
            "19/19 [==============================] - 0s 7ms/step - loss: 849.9454 - mean_absolute_error: 24.6549 - val_loss: 725.0013 - val_mean_absolute_error: 22.4880\n",
            "Epoch 5/100\n",
            "19/19 [==============================] - 0s 7ms/step - loss: 525.5330 - mean_absolute_error: 18.7403 - val_loss: 405.9152 - val_mean_absolute_error: 15.8938\n",
            "Epoch 6/100\n",
            "19/19 [==============================] - 0s 8ms/step - loss: 286.6851 - mean_absolute_error: 13.4336 - val_loss: 228.4544 - val_mean_absolute_error: 11.6776\n",
            "Epoch 7/100\n",
            "19/19 [==============================] - 0s 8ms/step - loss: 188.7515 - mean_absolute_error: 10.9599 - val_loss: 186.0477 - val_mean_absolute_error: 10.7043\n",
            "Epoch 8/100\n",
            "19/19 [==============================] - 0s 6ms/step - loss: 164.2605 - mean_absolute_error: 10.2656 - val_loss: 173.8401 - val_mean_absolute_error: 10.3670\n",
            "Epoch 9/100\n",
            "19/19 [==============================] - 0s 6ms/step - loss: 152.0178 - mean_absolute_error: 9.8262 - val_loss: 166.0239 - val_mean_absolute_error: 10.1646\n",
            "Epoch 10/100\n",
            "19/19 [==============================] - 0s 6ms/step - loss: 144.3368 - mean_absolute_error: 9.6013 - val_loss: 160.3659 - val_mean_absolute_error: 10.0067\n",
            "Epoch 11/100\n",
            "19/19 [==============================] - 0s 7ms/step - loss: 138.5053 - mean_absolute_error: 9.4155 - val_loss: 156.2411 - val_mean_absolute_error: 9.8747\n",
            "Epoch 12/100\n",
            "19/19 [==============================] - 0s 6ms/step - loss: 134.1922 - mean_absolute_error: 9.2779 - val_loss: 152.6038 - val_mean_absolute_error: 9.7707\n",
            "Epoch 13/100\n",
            "19/19 [==============================] - 0s 7ms/step - loss: 130.7229 - mean_absolute_error: 9.1580 - val_loss: 149.1941 - val_mean_absolute_error: 9.6575\n",
            "Epoch 14/100\n",
            "19/19 [==============================] - 0s 6ms/step - loss: 127.2582 - mean_absolute_error: 9.0290 - val_loss: 146.1757 - val_mean_absolute_error: 9.5465\n",
            "Epoch 15/100\n",
            "19/19 [==============================] - 0s 7ms/step - loss: 123.6849 - mean_absolute_error: 8.9211 - val_loss: 143.5870 - val_mean_absolute_error: 9.5361\n",
            "Epoch 16/100\n",
            "19/19 [==============================] - 0s 7ms/step - loss: 121.0565 - mean_absolute_error: 8.8451 - val_loss: 140.4967 - val_mean_absolute_error: 9.4208\n",
            "Epoch 17/100\n",
            "19/19 [==============================] - 0s 6ms/step - loss: 118.9102 - mean_absolute_error: 8.7452 - val_loss: 138.3983 - val_mean_absolute_error: 9.3359\n",
            "Epoch 18/100\n",
            "19/19 [==============================] - 0s 6ms/step - loss: 116.7395 - mean_absolute_error: 8.6482 - val_loss: 136.9045 - val_mean_absolute_error: 9.2208\n",
            "Epoch 19/100\n",
            "19/19 [==============================] - 0s 7ms/step - loss: 113.8203 - mean_absolute_error: 8.5518 - val_loss: 134.3824 - val_mean_absolute_error: 9.2298\n",
            "Epoch 20/100\n",
            "19/19 [==============================] - 0s 7ms/step - loss: 112.0548 - mean_absolute_error: 8.5035 - val_loss: 132.4536 - val_mean_absolute_error: 9.1594\n",
            "Epoch 21/100\n",
            "19/19 [==============================] - 0s 6ms/step - loss: 109.8575 - mean_absolute_error: 8.3865 - val_loss: 130.9187 - val_mean_absolute_error: 9.0607\n",
            "Epoch 22/100\n",
            "19/19 [==============================] - 0s 6ms/step - loss: 108.1578 - mean_absolute_error: 8.3128 - val_loss: 129.2920 - val_mean_absolute_error: 9.0107\n",
            "Epoch 23/100\n",
            "19/19 [==============================] - 0s 9ms/step - loss: 106.4144 - mean_absolute_error: 8.2692 - val_loss: 128.6983 - val_mean_absolute_error: 8.9840\n",
            "Epoch 24/100\n",
            "19/19 [==============================] - 0s 7ms/step - loss: 104.8271 - mean_absolute_error: 8.2060 - val_loss: 126.7006 - val_mean_absolute_error: 8.9223\n",
            "Epoch 25/100\n",
            "19/19 [==============================] - 0s 7ms/step - loss: 102.9819 - mean_absolute_error: 8.1309 - val_loss: 124.9455 - val_mean_absolute_error: 8.8324\n",
            "Epoch 26/100\n",
            "19/19 [==============================] - 0s 7ms/step - loss: 101.9043 - mean_absolute_error: 8.0887 - val_loss: 123.1656 - val_mean_absolute_error: 8.7938\n",
            "Epoch 27/100\n",
            "19/19 [==============================] - 0s 7ms/step - loss: 100.2128 - mean_absolute_error: 8.0138 - val_loss: 122.0145 - val_mean_absolute_error: 8.7569\n",
            "Epoch 28/100\n",
            "19/19 [==============================] - 0s 7ms/step - loss: 98.6405 - mean_absolute_error: 7.9687 - val_loss: 120.5558 - val_mean_absolute_error: 8.6679\n",
            "Epoch 29/100\n",
            "19/19 [==============================] - 0s 8ms/step - loss: 97.5433 - mean_absolute_error: 7.9054 - val_loss: 119.3921 - val_mean_absolute_error: 8.6393\n",
            "Epoch 30/100\n",
            "19/19 [==============================] - 0s 7ms/step - loss: 95.9210 - mean_absolute_error: 7.8294 - val_loss: 117.8058 - val_mean_absolute_error: 8.5918\n",
            "Epoch 31/100\n",
            "19/19 [==============================] - 0s 7ms/step - loss: 94.8017 - mean_absolute_error: 7.7982 - val_loss: 116.5439 - val_mean_absolute_error: 8.5329\n",
            "Epoch 32/100\n",
            "19/19 [==============================] - 0s 7ms/step - loss: 92.8496 - mean_absolute_error: 7.7275 - val_loss: 115.2409 - val_mean_absolute_error: 8.5129\n",
            "Epoch 33/100\n",
            "19/19 [==============================] - 0s 8ms/step - loss: 91.7094 - mean_absolute_error: 7.6767 - val_loss: 114.3386 - val_mean_absolute_error: 8.4433\n",
            "Epoch 34/100\n",
            "19/19 [==============================] - 0s 7ms/step - loss: 90.2244 - mean_absolute_error: 7.6017 - val_loss: 112.7031 - val_mean_absolute_error: 8.3857\n",
            "Epoch 35/100\n",
            "19/19 [==============================] - 0s 7ms/step - loss: 89.5701 - mean_absolute_error: 7.5720 - val_loss: 111.1282 - val_mean_absolute_error: 8.3077\n",
            "Epoch 36/100\n",
            "19/19 [==============================] - 0s 8ms/step - loss: 87.8905 - mean_absolute_error: 7.4859 - val_loss: 109.9238 - val_mean_absolute_error: 8.2873\n",
            "Epoch 37/100\n",
            "19/19 [==============================] - 0s 9ms/step - loss: 86.6566 - mean_absolute_error: 7.4411 - val_loss: 108.1802 - val_mean_absolute_error: 8.2053\n",
            "Epoch 38/100\n",
            "19/19 [==============================] - 0s 8ms/step - loss: 85.4895 - mean_absolute_error: 7.3833 - val_loss: 106.5816 - val_mean_absolute_error: 8.1605\n",
            "Epoch 39/100\n",
            "19/19 [==============================] - 0s 6ms/step - loss: 84.6167 - mean_absolute_error: 7.3625 - val_loss: 105.7900 - val_mean_absolute_error: 8.0964\n",
            "Epoch 40/100\n",
            "19/19 [==============================] - 0s 7ms/step - loss: 82.4923 - mean_absolute_error: 7.2463 - val_loss: 104.1383 - val_mean_absolute_error: 8.0438\n",
            "Epoch 41/100\n",
            "19/19 [==============================] - 0s 7ms/step - loss: 81.0784 - mean_absolute_error: 7.1812 - val_loss: 103.2517 - val_mean_absolute_error: 7.9845\n",
            "Epoch 42/100\n",
            "19/19 [==============================] - 0s 7ms/step - loss: 79.4765 - mean_absolute_error: 7.1108 - val_loss: 101.2163 - val_mean_absolute_error: 7.9297\n",
            "Epoch 43/100\n",
            "19/19 [==============================] - 0s 7ms/step - loss: 79.4923 - mean_absolute_error: 7.1043 - val_loss: 99.3107 - val_mean_absolute_error: 7.8546\n",
            "Epoch 44/100\n",
            "19/19 [==============================] - 0s 7ms/step - loss: 76.7668 - mean_absolute_error: 6.9885 - val_loss: 98.3026 - val_mean_absolute_error: 7.7912\n",
            "Epoch 45/100\n",
            "19/19 [==============================] - 0s 9ms/step - loss: 75.7368 - mean_absolute_error: 6.9338 - val_loss: 96.4992 - val_mean_absolute_error: 7.7261\n",
            "Epoch 46/100\n",
            "19/19 [==============================] - 0s 7ms/step - loss: 74.4717 - mean_absolute_error: 6.8637 - val_loss: 95.0440 - val_mean_absolute_error: 7.6629\n",
            "Epoch 47/100\n",
            "19/19 [==============================] - 0s 7ms/step - loss: 73.2842 - mean_absolute_error: 6.7943 - val_loss: 93.7733 - val_mean_absolute_error: 7.5862\n",
            "Epoch 48/100\n",
            "19/19 [==============================] - 0s 7ms/step - loss: 72.0452 - mean_absolute_error: 6.7128 - val_loss: 92.3849 - val_mean_absolute_error: 7.5194\n",
            "Epoch 49/100\n",
            "19/19 [==============================] - 0s 8ms/step - loss: 70.6625 - mean_absolute_error: 6.6628 - val_loss: 91.0353 - val_mean_absolute_error: 7.4758\n",
            "Epoch 50/100\n",
            "19/19 [==============================] - 0s 7ms/step - loss: 69.0430 - mean_absolute_error: 6.5689 - val_loss: 89.6672 - val_mean_absolute_error: 7.3839\n",
            "Epoch 51/100\n",
            "19/19 [==============================] - 0s 7ms/step - loss: 68.1567 - mean_absolute_error: 6.5382 - val_loss: 88.1325 - val_mean_absolute_error: 7.3207\n",
            "Epoch 52/100\n",
            "19/19 [==============================] - 0s 7ms/step - loss: 66.6308 - mean_absolute_error: 6.4271 - val_loss: 86.9582 - val_mean_absolute_error: 7.2202\n",
            "Epoch 53/100\n",
            "19/19 [==============================] - 0s 7ms/step - loss: 65.3728 - mean_absolute_error: 6.3402 - val_loss: 85.6370 - val_mean_absolute_error: 7.1803\n",
            "Epoch 54/100\n",
            "19/19 [==============================] - 0s 7ms/step - loss: 64.1606 - mean_absolute_error: 6.3102 - val_loss: 84.7527 - val_mean_absolute_error: 7.1338\n",
            "Epoch 55/100\n",
            "19/19 [==============================] - 0s 7ms/step - loss: 63.0212 - mean_absolute_error: 6.2420 - val_loss: 83.2287 - val_mean_absolute_error: 7.0467\n",
            "Epoch 56/100\n",
            "19/19 [==============================] - 0s 5ms/step - loss: 61.6373 - mean_absolute_error: 6.1389 - val_loss: 81.5019 - val_mean_absolute_error: 6.9541\n",
            "Epoch 57/100\n",
            "19/19 [==============================] - 0s 5ms/step - loss: 60.1956 - mean_absolute_error: 6.0785 - val_loss: 80.0499 - val_mean_absolute_error: 6.8750\n",
            "Epoch 58/100\n",
            "19/19 [==============================] - 0s 4ms/step - loss: 59.3014 - mean_absolute_error: 5.9798 - val_loss: 79.2425 - val_mean_absolute_error: 6.8197\n",
            "Epoch 59/100\n",
            "19/19 [==============================] - 0s 4ms/step - loss: 58.5262 - mean_absolute_error: 5.9720 - val_loss: 77.4077 - val_mean_absolute_error: 6.7176\n",
            "Epoch 60/100\n",
            "19/19 [==============================] - 0s 4ms/step - loss: 56.6489 - mean_absolute_error: 5.8029 - val_loss: 76.4628 - val_mean_absolute_error: 6.6288\n",
            "Epoch 61/100\n",
            "19/19 [==============================] - 0s 5ms/step - loss: 56.3305 - mean_absolute_error: 5.8341 - val_loss: 75.2246 - val_mean_absolute_error: 6.5867\n",
            "Epoch 62/100\n",
            "19/19 [==============================] - 0s 5ms/step - loss: 53.9972 - mean_absolute_error: 5.6947 - val_loss: 73.3204 - val_mean_absolute_error: 6.4680\n",
            "Epoch 63/100\n",
            "19/19 [==============================] - 0s 5ms/step - loss: 52.8449 - mean_absolute_error: 5.5852 - val_loss: 71.6973 - val_mean_absolute_error: 6.3692\n",
            "Epoch 64/100\n",
            "19/19 [==============================] - 0s 4ms/step - loss: 51.2675 - mean_absolute_error: 5.5341 - val_loss: 70.1690 - val_mean_absolute_error: 6.2711\n",
            "Epoch 65/100\n",
            "19/19 [==============================] - 0s 4ms/step - loss: 50.6892 - mean_absolute_error: 5.4842 - val_loss: 68.4514 - val_mean_absolute_error: 6.1905\n",
            "Epoch 66/100\n",
            "19/19 [==============================] - 0s 4ms/step - loss: 49.1382 - mean_absolute_error: 5.3677 - val_loss: 65.9504 - val_mean_absolute_error: 6.0255\n",
            "Epoch 67/100\n",
            "19/19 [==============================] - 0s 5ms/step - loss: 47.5763 - mean_absolute_error: 5.2826 - val_loss: 64.5224 - val_mean_absolute_error: 6.0017\n",
            "Epoch 68/100\n",
            "19/19 [==============================] - 0s 6ms/step - loss: 46.5004 - mean_absolute_error: 5.1935 - val_loss: 61.9009 - val_mean_absolute_error: 5.8010\n",
            "Epoch 69/100\n",
            "19/19 [==============================] - 0s 6ms/step - loss: 44.9677 - mean_absolute_error: 5.1532 - val_loss: 60.7913 - val_mean_absolute_error: 5.8257\n",
            "Epoch 70/100\n",
            "19/19 [==============================] - 0s 5ms/step - loss: 43.6012 - mean_absolute_error: 5.0463 - val_loss: 58.8818 - val_mean_absolute_error: 5.6267\n",
            "Epoch 71/100\n",
            "19/19 [==============================] - 0s 6ms/step - loss: 42.6194 - mean_absolute_error: 4.9749 - val_loss: 57.4032 - val_mean_absolute_error: 5.5303\n",
            "Epoch 72/100\n",
            "19/19 [==============================] - 0s 5ms/step - loss: 40.7870 - mean_absolute_error: 4.8286 - val_loss: 56.2313 - val_mean_absolute_error: 5.5305\n",
            "Epoch 73/100\n",
            "19/19 [==============================] - 0s 5ms/step - loss: 39.7153 - mean_absolute_error: 4.7539 - val_loss: 55.2698 - val_mean_absolute_error: 5.3688\n",
            "Epoch 74/100\n",
            "19/19 [==============================] - 0s 6ms/step - loss: 38.7511 - mean_absolute_error: 4.6682 - val_loss: 54.4466 - val_mean_absolute_error: 5.4493\n",
            "Epoch 75/100\n",
            "19/19 [==============================] - 0s 5ms/step - loss: 38.1019 - mean_absolute_error: 4.6495 - val_loss: 52.2772 - val_mean_absolute_error: 5.2416\n",
            "Epoch 76/100\n",
            "19/19 [==============================] - 0s 5ms/step - loss: 37.0205 - mean_absolute_error: 4.5579 - val_loss: 52.2188 - val_mean_absolute_error: 5.1862\n",
            "Epoch 77/100\n",
            "19/19 [==============================] - 0s 5ms/step - loss: 36.3858 - mean_absolute_error: 4.5299 - val_loss: 50.9838 - val_mean_absolute_error: 5.2154\n",
            "Epoch 78/100\n",
            "19/19 [==============================] - 0s 5ms/step - loss: 35.6509 - mean_absolute_error: 4.4578 - val_loss: 50.4829 - val_mean_absolute_error: 5.0889\n",
            "Epoch 79/100\n",
            "19/19 [==============================] - 0s 6ms/step - loss: 34.4509 - mean_absolute_error: 4.3970 - val_loss: 49.6524 - val_mean_absolute_error: 5.1117\n",
            "Epoch 80/100\n",
            "19/19 [==============================] - 0s 6ms/step - loss: 34.0195 - mean_absolute_error: 4.4298 - val_loss: 49.3196 - val_mean_absolute_error: 5.0152\n",
            "Epoch 81/100\n",
            "19/19 [==============================] - 0s 4ms/step - loss: 33.7570 - mean_absolute_error: 4.3372 - val_loss: 49.0874 - val_mean_absolute_error: 5.2454\n",
            "Epoch 82/100\n",
            "19/19 [==============================] - 0s 4ms/step - loss: 32.8400 - mean_absolute_error: 4.3149 - val_loss: 47.6490 - val_mean_absolute_error: 4.9601\n",
            "Epoch 83/100\n",
            "19/19 [==============================] - 0s 5ms/step - loss: 32.3849 - mean_absolute_error: 4.3118 - val_loss: 46.9444 - val_mean_absolute_error: 4.8954\n",
            "Epoch 84/100\n",
            "19/19 [==============================] - 0s 4ms/step - loss: 32.4283 - mean_absolute_error: 4.2767 - val_loss: 46.7994 - val_mean_absolute_error: 5.0552\n",
            "Epoch 85/100\n",
            "19/19 [==============================] - 0s 5ms/step - loss: 32.1274 - mean_absolute_error: 4.3011 - val_loss: 46.3310 - val_mean_absolute_error: 4.9571\n",
            "Epoch 86/100\n",
            "19/19 [==============================] - 0s 6ms/step - loss: 31.0328 - mean_absolute_error: 4.1477 - val_loss: 45.9893 - val_mean_absolute_error: 4.8865\n",
            "Epoch 87/100\n",
            "19/19 [==============================] - 0s 4ms/step - loss: 30.6571 - mean_absolute_error: 4.1977 - val_loss: 45.0890 - val_mean_absolute_error: 4.8516\n",
            "Epoch 88/100\n",
            "19/19 [==============================] - 0s 5ms/step - loss: 29.9987 - mean_absolute_error: 4.0983 - val_loss: 45.0962 - val_mean_absolute_error: 4.8440\n",
            "Epoch 89/100\n",
            "19/19 [==============================] - 0s 5ms/step - loss: 29.4046 - mean_absolute_error: 4.1254 - val_loss: 44.8717 - val_mean_absolute_error: 4.9195\n",
            "Epoch 90/100\n",
            "19/19 [==============================] - 0s 5ms/step - loss: 29.1585 - mean_absolute_error: 4.0760 - val_loss: 44.5419 - val_mean_absolute_error: 4.7947\n",
            "Epoch 91/100\n",
            "19/19 [==============================] - 0s 5ms/step - loss: 29.3461 - mean_absolute_error: 4.0899 - val_loss: 44.0130 - val_mean_absolute_error: 4.9232\n",
            "Epoch 92/100\n",
            "19/19 [==============================] - 0s 4ms/step - loss: 28.5143 - mean_absolute_error: 4.0153 - val_loss: 44.3951 - val_mean_absolute_error: 4.8681\n",
            "Epoch 93/100\n",
            "19/19 [==============================] - 0s 4ms/step - loss: 28.4702 - mean_absolute_error: 4.0738 - val_loss: 43.7307 - val_mean_absolute_error: 4.7642\n",
            "Epoch 94/100\n",
            "19/19 [==============================] - 0s 4ms/step - loss: 27.7906 - mean_absolute_error: 4.0047 - val_loss: 43.4261 - val_mean_absolute_error: 4.8371\n",
            "Epoch 95/100\n",
            "19/19 [==============================] - 0s 5ms/step - loss: 27.6217 - mean_absolute_error: 3.9849 - val_loss: 43.1316 - val_mean_absolute_error: 4.7374\n",
            "Epoch 96/100\n",
            "19/19 [==============================] - 0s 5ms/step - loss: 27.7036 - mean_absolute_error: 3.9922 - val_loss: 44.5312 - val_mean_absolute_error: 5.0243\n",
            "Epoch 97/100\n",
            "19/19 [==============================] - 0s 4ms/step - loss: 26.9579 - mean_absolute_error: 3.8966 - val_loss: 42.5077 - val_mean_absolute_error: 4.7833\n",
            "Epoch 98/100\n",
            "19/19 [==============================] - 0s 5ms/step - loss: 27.0173 - mean_absolute_error: 3.9449 - val_loss: 42.8020 - val_mean_absolute_error: 4.7887\n",
            "Epoch 99/100\n",
            "19/19 [==============================] - 0s 4ms/step - loss: 26.3202 - mean_absolute_error: 3.8906 - val_loss: 42.8341 - val_mean_absolute_error: 4.7418\n",
            "Epoch 100/100\n",
            "19/19 [==============================] - 0s 4ms/step - loss: 26.0518 - mean_absolute_error: 3.8567 - val_loss: 42.1439 - val_mean_absolute_error: 4.7594\n"
          ]
        },
        {
          "output_type": "execute_result",
          "data": {
            "text/plain": [
              "<keras.callbacks.History at 0x7ad33b7274f0>"
            ]
          },
          "metadata": {},
          "execution_count": 39
        }
      ]
    },
    {
      "cell_type": "code",
      "execution_count": 40,
      "id": "3a240d7a",
      "metadata": {
        "id": "3a240d7a",
        "colab": {
          "base_uri": "https://localhost:8080/"
        },
        "outputId": "6c54c403-f0f7-4ad9-8195-8a81371ac5e1"
      },
      "outputs": [
        {
          "output_type": "stream",
          "name": "stdout",
          "text": [
            "3/3 [==============================] - 0s 5ms/step\n",
            "3.993571867826509\n",
            "27.950948898411863\n"
          ]
        }
      ],
      "source": [
        "#evaluate and store accuracy\n",
        "y_pred = model_c.predict(X_test)\n",
        "\n",
        "mae_c = mean_absolute_error(y_test, y_pred)\n",
        "mse_c = mean_squared_error(y_test, y_pred)\n",
        "\n",
        "print(mae_c)\n",
        "print(mse_c)"
      ]
    },
    {
      "cell_type": "markdown",
      "metadata": {
        "id": "010a6086-7239-4231-bbf9-1efedfc10d52"
      },
      "source": [
        "### Comparison of MSE between B & C (increasing epochs=50 to epochs=100)"
      ],
      "id": "010a6086-7239-4231-bbf9-1efedfc10d52"
    },
    {
      "cell_type": "code",
      "execution_count": 41,
      "id": "ad3cfce7",
      "metadata": {
        "id": "ad3cfce7",
        "colab": {
          "base_uri": "https://localhost:8080/"
        },
        "outputId": "078d0b87-4beb-4cc5-dd68-7f20a2053292"
      },
      "outputs": [
        {
          "output_type": "stream",
          "name": "stdout",
          "text": [
            "with 50 epochs, mse is 51.580856593597865 and mae is 5.568775830950057\n",
            "with 100 epochs, mse is 27.950948898411863 and mae is 3.993571867826509\n"
          ]
        }
      ],
      "source": [
        "# print MSE (error) and Accuracy between B, C\n",
        "\n",
        "# With 50 epochs\n",
        "print(f'with 50 epochs, mse is {mse_b} and mae is {mae_b}')\n",
        "\n",
        "# With 100 epochs\n",
        "print(f'with 100 epochs, mse is {mse_c} and mae is {mae_c}')\n"
      ]
    },
    {
      "cell_type": "markdown",
      "metadata": {
        "id": "e5dff680-ebb6-4d61-8de5-1a96f64d5a47"
      },
      "source": [
        "## D. Optimized the number of hidden layers using counts 3,4,..."
      ],
      "id": "e5dff680-ebb6-4d61-8de5-1a96f64d5a47"
    },
    {
      "cell_type": "markdown",
      "metadata": {
        "id": "3455222b-816c-4734-bcc1-da8a4e5e697a"
      },
      "source": [
        "### Model  fitting and evaluation"
      ],
      "id": "3455222b-816c-4734-bcc1-da8a4e5e697a"
    },
    {
      "cell_type": "code",
      "execution_count": 42,
      "id": "dba9c04e",
      "metadata": {
        "id": "dba9c04e",
        "colab": {
          "base_uri": "https://localhost:8080/"
        },
        "outputId": "812f66db-4269-4d9a-b6b1-96fd51d37999"
      },
      "outputs": [
        {
          "output_type": "stream",
          "name": "stdout",
          "text": [
            "Epoch 1/100\n",
            "19/19 [==============================] - 2s 19ms/step - loss: 1392.7919 - mean_absolute_error: 33.5376 - val_loss: 1336.1198 - val_mean_absolute_error: 32.8755\n",
            "Epoch 2/100\n",
            "19/19 [==============================] - 0s 4ms/step - loss: 1101.8004 - mean_absolute_error: 29.1623 - val_loss: 900.0004 - val_mean_absolute_error: 25.8413\n",
            "Epoch 3/100\n",
            "19/19 [==============================] - 0s 5ms/step - loss: 561.5811 - mean_absolute_error: 19.2334 - val_loss: 299.8221 - val_mean_absolute_error: 13.2717\n",
            "Epoch 4/100\n",
            "19/19 [==============================] - 0s 5ms/step - loss: 211.9912 - mean_absolute_error: 11.9421 - val_loss: 204.4438 - val_mean_absolute_error: 11.1938\n",
            "Epoch 5/100\n",
            "19/19 [==============================] - 0s 4ms/step - loss: 163.8831 - mean_absolute_error: 10.3352 - val_loss: 181.2870 - val_mean_absolute_error: 10.7680\n",
            "Epoch 6/100\n",
            "19/19 [==============================] - 0s 5ms/step - loss: 150.9911 - mean_absolute_error: 9.8765 - val_loss: 170.3714 - val_mean_absolute_error: 10.3547\n",
            "Epoch 7/100\n",
            "19/19 [==============================] - 0s 5ms/step - loss: 142.7994 - mean_absolute_error: 9.5749 - val_loss: 164.8192 - val_mean_absolute_error: 10.1926\n",
            "Epoch 8/100\n",
            "19/19 [==============================] - 0s 4ms/step - loss: 137.3664 - mean_absolute_error: 9.3655 - val_loss: 160.2342 - val_mean_absolute_error: 10.0960\n",
            "Epoch 9/100\n",
            "19/19 [==============================] - 0s 4ms/step - loss: 132.4945 - mean_absolute_error: 9.2102 - val_loss: 155.7055 - val_mean_absolute_error: 9.9304\n",
            "Epoch 10/100\n",
            "19/19 [==============================] - 0s 5ms/step - loss: 127.8436 - mean_absolute_error: 9.0425 - val_loss: 152.0650 - val_mean_absolute_error: 9.8959\n",
            "Epoch 11/100\n",
            "19/19 [==============================] - 0s 6ms/step - loss: 124.3683 - mean_absolute_error: 8.9230 - val_loss: 148.3527 - val_mean_absolute_error: 9.7261\n",
            "Epoch 12/100\n",
            "19/19 [==============================] - 0s 5ms/step - loss: 119.8537 - mean_absolute_error: 8.7408 - val_loss: 144.1618 - val_mean_absolute_error: 9.6212\n",
            "Epoch 13/100\n",
            "19/19 [==============================] - 0s 5ms/step - loss: 116.7418 - mean_absolute_error: 8.6235 - val_loss: 140.8354 - val_mean_absolute_error: 9.5106\n",
            "Epoch 14/100\n",
            "19/19 [==============================] - 0s 5ms/step - loss: 113.5375 - mean_absolute_error: 8.5370 - val_loss: 138.1871 - val_mean_absolute_error: 9.4312\n",
            "Epoch 15/100\n",
            "19/19 [==============================] - 0s 5ms/step - loss: 109.5966 - mean_absolute_error: 8.3460 - val_loss: 134.8376 - val_mean_absolute_error: 9.2098\n",
            "Epoch 16/100\n",
            "19/19 [==============================] - 0s 4ms/step - loss: 106.8432 - mean_absolute_error: 8.2341 - val_loss: 130.9681 - val_mean_absolute_error: 9.1530\n",
            "Epoch 17/100\n",
            "19/19 [==============================] - 0s 4ms/step - loss: 103.7041 - mean_absolute_error: 8.0972 - val_loss: 129.0357 - val_mean_absolute_error: 8.9300\n",
            "Epoch 18/100\n",
            "19/19 [==============================] - 0s 6ms/step - loss: 100.1659 - mean_absolute_error: 7.9491 - val_loss: 124.8123 - val_mean_absolute_error: 8.9408\n",
            "Epoch 19/100\n",
            "19/19 [==============================] - 0s 4ms/step - loss: 95.9261 - mean_absolute_error: 7.7465 - val_loss: 121.0033 - val_mean_absolute_error: 8.6296\n",
            "Epoch 20/100\n",
            "19/19 [==============================] - 0s 4ms/step - loss: 92.0692 - mean_absolute_error: 7.5720 - val_loss: 115.2172 - val_mean_absolute_error: 8.5064\n",
            "Epoch 21/100\n",
            "19/19 [==============================] - 0s 5ms/step - loss: 88.1615 - mean_absolute_error: 7.3996 - val_loss: 110.7874 - val_mean_absolute_error: 8.3011\n",
            "Epoch 22/100\n",
            "19/19 [==============================] - 0s 5ms/step - loss: 84.7857 - mean_absolute_error: 7.1793 - val_loss: 108.4666 - val_mean_absolute_error: 8.1220\n",
            "Epoch 23/100\n",
            "19/19 [==============================] - 0s 5ms/step - loss: 80.1752 - mean_absolute_error: 6.9806 - val_loss: 101.2181 - val_mean_absolute_error: 7.8571\n",
            "Epoch 24/100\n",
            "19/19 [==============================] - 0s 4ms/step - loss: 76.1175 - mean_absolute_error: 6.7862 - val_loss: 97.0106 - val_mean_absolute_error: 7.6903\n",
            "Epoch 25/100\n",
            "19/19 [==============================] - 0s 6ms/step - loss: 71.1555 - mean_absolute_error: 6.5239 - val_loss: 91.1474 - val_mean_absolute_error: 7.4123\n",
            "Epoch 26/100\n",
            "19/19 [==============================] - 0s 4ms/step - loss: 67.6726 - mean_absolute_error: 6.3225 - val_loss: 86.1904 - val_mean_absolute_error: 7.1879\n",
            "Epoch 27/100\n",
            "19/19 [==============================] - 0s 5ms/step - loss: 61.7045 - mean_absolute_error: 6.0046 - val_loss: 80.6775 - val_mean_absolute_error: 6.9108\n",
            "Epoch 28/100\n",
            "19/19 [==============================] - 0s 5ms/step - loss: 57.6899 - mean_absolute_error: 5.8184 - val_loss: 75.3112 - val_mean_absolute_error: 6.6244\n",
            "Epoch 29/100\n",
            "19/19 [==============================] - 0s 5ms/step - loss: 53.2284 - mean_absolute_error: 5.5500 - val_loss: 70.2663 - val_mean_absolute_error: 6.3448\n",
            "Epoch 30/100\n",
            "19/19 [==============================] - 0s 5ms/step - loss: 48.6888 - mean_absolute_error: 5.2740 - val_loss: 66.2551 - val_mean_absolute_error: 6.0900\n",
            "Epoch 31/100\n",
            "19/19 [==============================] - 0s 5ms/step - loss: 44.4319 - mean_absolute_error: 4.9978 - val_loss: 61.5838 - val_mean_absolute_error: 5.8794\n",
            "Epoch 32/100\n",
            "19/19 [==============================] - 0s 5ms/step - loss: 40.8919 - mean_absolute_error: 4.8036 - val_loss: 57.9773 - val_mean_absolute_error: 5.6955\n",
            "Epoch 33/100\n",
            "19/19 [==============================] - 0s 5ms/step - loss: 38.2183 - mean_absolute_error: 4.6052 - val_loss: 55.9045 - val_mean_absolute_error: 5.5974\n",
            "Epoch 34/100\n",
            "19/19 [==============================] - 0s 5ms/step - loss: 36.5880 - mean_absolute_error: 4.5257 - val_loss: 52.7940 - val_mean_absolute_error: 5.3363\n",
            "Epoch 35/100\n",
            "19/19 [==============================] - 0s 5ms/step - loss: 35.1174 - mean_absolute_error: 4.4522 - val_loss: 50.3821 - val_mean_absolute_error: 5.2759\n",
            "Epoch 36/100\n",
            "19/19 [==============================] - 0s 6ms/step - loss: 32.4508 - mean_absolute_error: 4.2503 - val_loss: 47.1533 - val_mean_absolute_error: 5.1256\n",
            "Epoch 37/100\n",
            "19/19 [==============================] - 0s 5ms/step - loss: 30.7144 - mean_absolute_error: 4.1117 - val_loss: 45.5818 - val_mean_absolute_error: 5.0632\n",
            "Epoch 38/100\n",
            "19/19 [==============================] - 0s 6ms/step - loss: 30.1394 - mean_absolute_error: 4.1517 - val_loss: 44.9823 - val_mean_absolute_error: 5.0386\n",
            "Epoch 39/100\n",
            "19/19 [==============================] - 0s 5ms/step - loss: 29.3159 - mean_absolute_error: 4.0567 - val_loss: 46.6982 - val_mean_absolute_error: 5.1342\n",
            "Epoch 40/100\n",
            "19/19 [==============================] - 0s 4ms/step - loss: 29.3379 - mean_absolute_error: 4.0678 - val_loss: 42.8503 - val_mean_absolute_error: 4.8955\n",
            "Epoch 41/100\n",
            "19/19 [==============================] - 0s 5ms/step - loss: 28.1279 - mean_absolute_error: 4.0455 - val_loss: 43.9996 - val_mean_absolute_error: 5.0482\n",
            "Epoch 42/100\n",
            "19/19 [==============================] - 0s 5ms/step - loss: 28.1691 - mean_absolute_error: 4.0179 - val_loss: 42.0459 - val_mean_absolute_error: 4.7948\n",
            "Epoch 43/100\n",
            "19/19 [==============================] - 0s 4ms/step - loss: 26.0282 - mean_absolute_error: 3.8319 - val_loss: 40.7567 - val_mean_absolute_error: 4.6514\n",
            "Epoch 44/100\n",
            "19/19 [==============================] - 0s 4ms/step - loss: 26.1540 - mean_absolute_error: 3.8574 - val_loss: 39.0103 - val_mean_absolute_error: 4.6392\n",
            "Epoch 45/100\n",
            "19/19 [==============================] - 0s 4ms/step - loss: 23.9483 - mean_absolute_error: 3.6689 - val_loss: 39.3972 - val_mean_absolute_error: 4.6128\n",
            "Epoch 46/100\n",
            "19/19 [==============================] - 0s 5ms/step - loss: 23.8396 - mean_absolute_error: 3.6805 - val_loss: 38.1185 - val_mean_absolute_error: 4.6085\n",
            "Epoch 47/100\n",
            "19/19 [==============================] - 0s 4ms/step - loss: 23.6528 - mean_absolute_error: 3.6331 - val_loss: 37.7243 - val_mean_absolute_error: 4.5578\n",
            "Epoch 48/100\n",
            "19/19 [==============================] - 0s 5ms/step - loss: 22.6555 - mean_absolute_error: 3.6067 - val_loss: 39.3708 - val_mean_absolute_error: 4.6770\n",
            "Epoch 49/100\n",
            "19/19 [==============================] - 0s 4ms/step - loss: 22.3683 - mean_absolute_error: 3.5179 - val_loss: 37.0539 - val_mean_absolute_error: 4.4605\n",
            "Epoch 50/100\n",
            "19/19 [==============================] - 0s 4ms/step - loss: 22.1413 - mean_absolute_error: 3.5774 - val_loss: 37.8630 - val_mean_absolute_error: 4.5472\n",
            "Epoch 51/100\n",
            "19/19 [==============================] - 0s 5ms/step - loss: 21.3374 - mean_absolute_error: 3.4711 - val_loss: 36.3221 - val_mean_absolute_error: 4.4657\n",
            "Epoch 52/100\n",
            "19/19 [==============================] - 0s 4ms/step - loss: 20.9306 - mean_absolute_error: 3.4230 - val_loss: 36.3722 - val_mean_absolute_error: 4.4278\n",
            "Epoch 53/100\n",
            "19/19 [==============================] - 0s 4ms/step - loss: 21.0024 - mean_absolute_error: 3.4238 - val_loss: 38.1243 - val_mean_absolute_error: 4.5222\n",
            "Epoch 54/100\n",
            "19/19 [==============================] - 0s 5ms/step - loss: 21.2155 - mean_absolute_error: 3.4367 - val_loss: 35.4066 - val_mean_absolute_error: 4.4636\n",
            "Epoch 55/100\n",
            "19/19 [==============================] - 0s 4ms/step - loss: 20.1146 - mean_absolute_error: 3.3925 - val_loss: 36.3588 - val_mean_absolute_error: 4.4415\n",
            "Epoch 56/100\n",
            "19/19 [==============================] - 0s 4ms/step - loss: 20.0205 - mean_absolute_error: 3.3297 - val_loss: 36.7021 - val_mean_absolute_error: 4.5714\n",
            "Epoch 57/100\n",
            "19/19 [==============================] - 0s 5ms/step - loss: 20.0045 - mean_absolute_error: 3.3666 - val_loss: 36.4135 - val_mean_absolute_error: 4.4844\n",
            "Epoch 58/100\n",
            "19/19 [==============================] - 0s 4ms/step - loss: 19.7214 - mean_absolute_error: 3.3268 - val_loss: 37.1426 - val_mean_absolute_error: 4.4812\n",
            "Epoch 59/100\n",
            "19/19 [==============================] - 0s 7ms/step - loss: 20.6002 - mean_absolute_error: 3.3822 - val_loss: 38.7369 - val_mean_absolute_error: 4.7299\n",
            "Epoch 60/100\n",
            "19/19 [==============================] - 0s 5ms/step - loss: 18.6975 - mean_absolute_error: 3.1843 - val_loss: 36.6393 - val_mean_absolute_error: 4.5650\n",
            "Epoch 61/100\n",
            "19/19 [==============================] - 0s 5ms/step - loss: 19.4583 - mean_absolute_error: 3.3857 - val_loss: 35.2874 - val_mean_absolute_error: 4.4543\n",
            "Epoch 62/100\n",
            "19/19 [==============================] - 0s 5ms/step - loss: 18.3459 - mean_absolute_error: 3.2123 - val_loss: 36.1104 - val_mean_absolute_error: 4.4669\n",
            "Epoch 63/100\n",
            "19/19 [==============================] - 0s 5ms/step - loss: 18.7198 - mean_absolute_error: 3.2133 - val_loss: 36.3409 - val_mean_absolute_error: 4.4342\n",
            "Epoch 64/100\n",
            "19/19 [==============================] - 0s 6ms/step - loss: 17.6629 - mean_absolute_error: 3.1136 - val_loss: 34.2867 - val_mean_absolute_error: 4.2914\n",
            "Epoch 65/100\n",
            "19/19 [==============================] - 0s 5ms/step - loss: 17.8424 - mean_absolute_error: 3.1607 - val_loss: 35.7623 - val_mean_absolute_error: 4.4019\n",
            "Epoch 66/100\n",
            "19/19 [==============================] - 0s 5ms/step - loss: 18.0920 - mean_absolute_error: 3.1378 - val_loss: 35.4183 - val_mean_absolute_error: 4.4160\n",
            "Epoch 67/100\n",
            "19/19 [==============================] - 0s 5ms/step - loss: 16.8909 - mean_absolute_error: 3.0557 - val_loss: 33.9148 - val_mean_absolute_error: 4.2830\n",
            "Epoch 68/100\n",
            "19/19 [==============================] - 0s 6ms/step - loss: 16.3708 - mean_absolute_error: 2.9865 - val_loss: 33.9411 - val_mean_absolute_error: 4.2316\n",
            "Epoch 69/100\n",
            "19/19 [==============================] - 0s 5ms/step - loss: 16.5519 - mean_absolute_error: 3.0566 - val_loss: 34.9613 - val_mean_absolute_error: 4.3277\n",
            "Epoch 70/100\n",
            "19/19 [==============================] - 0s 4ms/step - loss: 17.5099 - mean_absolute_error: 3.1597 - val_loss: 33.5917 - val_mean_absolute_error: 4.2655\n",
            "Epoch 71/100\n",
            "19/19 [==============================] - 0s 5ms/step - loss: 16.2871 - mean_absolute_error: 3.0139 - val_loss: 32.7181 - val_mean_absolute_error: 4.1882\n",
            "Epoch 72/100\n",
            "19/19 [==============================] - 0s 4ms/step - loss: 16.2607 - mean_absolute_error: 2.9462 - val_loss: 33.1336 - val_mean_absolute_error: 4.2020\n",
            "Epoch 73/100\n",
            "19/19 [==============================] - 0s 5ms/step - loss: 16.3469 - mean_absolute_error: 3.0505 - val_loss: 33.9950 - val_mean_absolute_error: 4.2622\n",
            "Epoch 74/100\n",
            "19/19 [==============================] - 0s 4ms/step - loss: 15.8239 - mean_absolute_error: 2.9751 - val_loss: 34.9572 - val_mean_absolute_error: 4.2352\n",
            "Epoch 75/100\n",
            "19/19 [==============================] - 0s 6ms/step - loss: 16.4018 - mean_absolute_error: 2.9941 - val_loss: 33.1652 - val_mean_absolute_error: 4.2084\n",
            "Epoch 76/100\n",
            "19/19 [==============================] - 0s 5ms/step - loss: 14.9281 - mean_absolute_error: 2.8372 - val_loss: 32.4939 - val_mean_absolute_error: 4.1306\n",
            "Epoch 77/100\n",
            "19/19 [==============================] - 0s 4ms/step - loss: 14.7275 - mean_absolute_error: 2.8017 - val_loss: 32.7432 - val_mean_absolute_error: 4.2018\n",
            "Epoch 78/100\n",
            "19/19 [==============================] - 0s 5ms/step - loss: 15.2491 - mean_absolute_error: 2.8836 - val_loss: 34.1471 - val_mean_absolute_error: 4.2014\n",
            "Epoch 79/100\n",
            "19/19 [==============================] - 0s 4ms/step - loss: 15.1278 - mean_absolute_error: 2.8756 - val_loss: 34.0009 - val_mean_absolute_error: 4.2261\n",
            "Epoch 80/100\n",
            "19/19 [==============================] - 0s 5ms/step - loss: 14.6873 - mean_absolute_error: 2.8201 - val_loss: 31.7529 - val_mean_absolute_error: 4.0649\n",
            "Epoch 81/100\n",
            "19/19 [==============================] - 0s 4ms/step - loss: 14.7216 - mean_absolute_error: 2.8099 - val_loss: 31.9474 - val_mean_absolute_error: 4.1355\n",
            "Epoch 82/100\n",
            "19/19 [==============================] - 0s 5ms/step - loss: 14.1608 - mean_absolute_error: 2.7867 - val_loss: 34.4186 - val_mean_absolute_error: 4.2279\n",
            "Epoch 83/100\n",
            "19/19 [==============================] - 0s 4ms/step - loss: 14.6225 - mean_absolute_error: 2.8166 - val_loss: 32.6510 - val_mean_absolute_error: 4.1131\n",
            "Epoch 84/100\n",
            "19/19 [==============================] - 0s 5ms/step - loss: 13.7589 - mean_absolute_error: 2.6962 - val_loss: 31.7219 - val_mean_absolute_error: 4.0741\n",
            "Epoch 85/100\n",
            "19/19 [==============================] - 0s 4ms/step - loss: 13.7438 - mean_absolute_error: 2.7170 - val_loss: 31.8482 - val_mean_absolute_error: 4.0547\n",
            "Epoch 86/100\n",
            "19/19 [==============================] - 0s 4ms/step - loss: 13.4386 - mean_absolute_error: 2.7430 - val_loss: 32.3907 - val_mean_absolute_error: 4.1535\n",
            "Epoch 87/100\n",
            "19/19 [==============================] - 0s 5ms/step - loss: 13.5106 - mean_absolute_error: 2.6842 - val_loss: 32.1337 - val_mean_absolute_error: 3.9826\n",
            "Epoch 88/100\n",
            "19/19 [==============================] - 0s 5ms/step - loss: 14.1780 - mean_absolute_error: 2.7825 - val_loss: 32.5433 - val_mean_absolute_error: 4.0944\n",
            "Epoch 89/100\n",
            "19/19 [==============================] - 0s 6ms/step - loss: 13.8079 - mean_absolute_error: 2.7330 - val_loss: 32.3284 - val_mean_absolute_error: 4.0944\n",
            "Epoch 90/100\n",
            "19/19 [==============================] - 0s 5ms/step - loss: 14.1302 - mean_absolute_error: 2.7791 - val_loss: 31.6108 - val_mean_absolute_error: 4.0375\n",
            "Epoch 91/100\n",
            "19/19 [==============================] - 0s 4ms/step - loss: 13.5532 - mean_absolute_error: 2.7370 - val_loss: 32.3390 - val_mean_absolute_error: 4.1704\n",
            "Epoch 92/100\n",
            "19/19 [==============================] - 0s 4ms/step - loss: 13.6425 - mean_absolute_error: 2.7148 - val_loss: 30.9800 - val_mean_absolute_error: 4.0167\n",
            "Epoch 93/100\n",
            "19/19 [==============================] - 0s 5ms/step - loss: 13.1173 - mean_absolute_error: 2.6243 - val_loss: 31.4204 - val_mean_absolute_error: 3.9591\n",
            "Epoch 94/100\n",
            "19/19 [==============================] - 0s 4ms/step - loss: 12.8600 - mean_absolute_error: 2.6406 - val_loss: 30.8893 - val_mean_absolute_error: 3.9652\n",
            "Epoch 95/100\n",
            "19/19 [==============================] - 0s 5ms/step - loss: 12.7532 - mean_absolute_error: 2.5903 - val_loss: 33.4799 - val_mean_absolute_error: 4.1613\n",
            "Epoch 96/100\n",
            "19/19 [==============================] - 0s 4ms/step - loss: 13.1649 - mean_absolute_error: 2.6440 - val_loss: 30.7325 - val_mean_absolute_error: 3.9361\n",
            "Epoch 97/100\n",
            "19/19 [==============================] - 0s 6ms/step - loss: 12.5983 - mean_absolute_error: 2.5650 - val_loss: 29.9572 - val_mean_absolute_error: 3.8818\n",
            "Epoch 98/100\n",
            "19/19 [==============================] - 0s 5ms/step - loss: 12.8348 - mean_absolute_error: 2.5799 - val_loss: 30.9335 - val_mean_absolute_error: 3.8943\n",
            "Epoch 99/100\n",
            "19/19 [==============================] - 0s 6ms/step - loss: 12.2573 - mean_absolute_error: 2.5504 - val_loss: 30.6166 - val_mean_absolute_error: 3.9459\n",
            "Epoch 100/100\n",
            "19/19 [==============================] - 0s 8ms/step - loss: 12.6693 - mean_absolute_error: 2.5935 - val_loss: 32.0283 - val_mean_absolute_error: 4.0066\n"
          ]
        },
        {
          "output_type": "execute_result",
          "data": {
            "text/plain": [
              "<keras.callbacks.History at 0x7ad33d743670>"
            ]
          },
          "metadata": {},
          "execution_count": 42
        }
      ],
      "source": [
        "# create model as above\n",
        "model_d = keras.Sequential()\n",
        "model_d.add(layers.Input(shape=(X_train.shape[1],)))\n",
        "model_d.add(layers.Dense(80, activation='relu'))\n",
        "model_d.add(layers.Dense(60, activation='relu'))\n",
        "model_d.add(layers.Dense(20, activation='relu'))\n",
        "model_d.add(layers.Dense(20, activation='relu'))\n",
        "model_d.add(layers.Dense(1))\n",
        "\n",
        "\n",
        "optimizer = keras.optimizers.Adam(learning_rate=1e-3)\n",
        "model_d.compile(loss='mean_squared_error',\n",
        "             optimizer=optimizer,\n",
        "             metrics=['mean_absolute_error'])\n",
        "\n",
        "model_d.fit(X_train,\n",
        "          y_train,\n",
        "          epochs=100,\n",
        "          validation_split=0.2,\n",
        "          batch_size=32)\n",
        "\n"
      ]
    },
    {
      "cell_type": "code",
      "execution_count": 43,
      "id": "ec2b07fa",
      "metadata": {
        "id": "ec2b07fa",
        "colab": {
          "base_uri": "https://localhost:8080/"
        },
        "outputId": "405ce6d4-3a05-4ea1-db75-e4473a1b46f8"
      },
      "outputs": [
        {
          "output_type": "stream",
          "name": "stdout",
          "text": [
            "3/3 [==============================] - 0s 4ms/step\n",
            "3.478256065089528\n",
            "19.987222438119744\n"
          ]
        }
      ],
      "source": [
        "#repeate checking accuracy as above\n",
        "y_pred = model_d.predict(X_test)\n",
        "\n",
        "mae_d = mean_absolute_error(y_test, y_pred)\n",
        "mse_d = mean_squared_error(y_test, y_pred)\n",
        "\n",
        "print(mae_d)\n",
        "print(mse_d)"
      ]
    },
    {
      "cell_type": "markdown",
      "metadata": {
        "id": "859a4d01-f7db-404b-a88b-37060b86eadf"
      },
      "source": [
        "## Comparison of MSE between C & D (increasing number of hidden layers)"
      ],
      "id": "859a4d01-f7db-404b-a88b-37060b86eadf"
    },
    {
      "cell_type": "code",
      "execution_count": 44,
      "id": "5866c78b",
      "metadata": {
        "id": "5866c78b",
        "colab": {
          "base_uri": "https://localhost:8080/"
        },
        "outputId": "22956899-6e1b-4f61-969f-f685f464b468"
      },
      "outputs": [
        {
          "output_type": "stream",
          "name": "stdout",
          "text": [
            "mse is 27.950948898411863 and mae is 3.993571867826509\n",
            "After increasing number of hidden layers, mse is 19.987222438119744 and mae is 3.478256065089528\n"
          ]
        }
      ],
      "source": [
        "#print mse / accuracy\n",
        "\n",
        "print(f'mse is {mse_c} and mae is {mae_c}')\n",
        "\n",
        "print(f'After increasing number of hidden layers, mse is {mse_d} and mae is {mae_d}')"
      ]
    },
    {
      "cell_type": "markdown",
      "metadata": {
        "id": "82893a3d-305f-445a-9ebc-390e2ea6a39c"
      },
      "source": [
        "### Conclusion"
      ],
      "id": "82893a3d-305f-445a-9ebc-390e2ea6a39c"
    },
    {
      "cell_type": "markdown",
      "id": "5715023e",
      "metadata": {
        "id": "5715023e"
      },
      "source": [
        "## E. Increasing the no. of units of hidden layers (16, 32,64,96, ... style)"
      ]
    },
    {
      "cell_type": "markdown",
      "id": "17692d18",
      "metadata": {
        "id": "17692d18"
      },
      "source": [
        "### Model  fitting and evaluation"
      ]
    },
    {
      "cell_type": "code",
      "execution_count": 45,
      "id": "12a8cf00",
      "metadata": {
        "id": "12a8cf00"
      },
      "outputs": [],
      "source": [
        "# create model as above"
      ]
    },
    {
      "cell_type": "code",
      "execution_count": 46,
      "id": "5d6b2095",
      "metadata": {
        "id": "5d6b2095"
      },
      "outputs": [],
      "source": [
        "#repeate checking accuracy as above"
      ]
    },
    {
      "cell_type": "markdown",
      "id": "782c3990",
      "metadata": {
        "id": "782c3990"
      },
      "source": [
        "## Comparison of MSE between C & D (increasing number of hidden layers)"
      ]
    },
    {
      "cell_type": "code",
      "execution_count": 47,
      "id": "c76ca049",
      "metadata": {
        "id": "c76ca049"
      },
      "outputs": [],
      "source": [
        "#print mse / accuracy"
      ]
    },
    {
      "cell_type": "code",
      "execution_count": 48,
      "id": "38882860",
      "metadata": {
        "id": "38882860"
      },
      "outputs": [],
      "source": [
        "#plots of loss / accuracy (as in chapter 4 taught) usning history dictionary keys.\n",
        "# write what you saw when using non-normalized vs normalized data, increased epochs, layers and units.|"
      ]
    },
    {
      "cell_type": "markdown",
      "metadata": {
        "id": "789cabc9-1abe-440a-b493-0f4e45daa1ad"
      },
      "source": [
        "### It is therefore evident that;\n",
        "#### -normalization the data, ------------------\n",
        "#### -increasing the number of epochs -------------\n",
        "#### -increasing the number of layers -------------\n",
        "#### -and increasing the number of units ----------"
      ],
      "id": "789cabc9-1abe-440a-b493-0f4e45daa1ad"
    },
    {
      "cell_type": "markdown",
      "id": "55dba235",
      "metadata": {
        "id": "55dba235"
      },
      "source": [
        "1. You can use model name as modelA, modelB etc. for sections A,B,....to avoid error.\n",
        "2. MSE is mean squared error normally used in regression problems"
      ]
    },
    {
      "cell_type": "markdown",
      "id": "769cf925",
      "metadata": {
        "id": "769cf925"
      },
      "source": []
    }
  ],
  "metadata": {
    "accelerator": "TPU",
    "colab": {
      "provenance": []
    },
    "kernelspec": {
      "display_name": "Python 3 (ipykernel)",
      "language": "python",
      "name": "python3"
    },
    "language_info": {
      "codemirror_mode": {
        "name": "ipython",
        "version": 3
      },
      "file_extension": ".py",
      "mimetype": "text/x-python",
      "name": "python",
      "nbconvert_exporter": "python",
      "pygments_lexer": "ipython3",
      "version": "3.11.4"
    }
  },
  "nbformat": 4,
  "nbformat_minor": 5
}